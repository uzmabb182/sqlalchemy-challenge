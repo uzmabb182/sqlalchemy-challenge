{
 "cells": [
  {
   "cell_type": "code",
   "execution_count": 66,
   "metadata": {},
   "outputs": [],
   "source": [
    "%matplotlib inline\n",
    "from matplotlib import style\n",
    "style.use('fivethirtyeight')\n",
    "import matplotlib.pyplot as plt\n"
   ]
  },
  {
   "cell_type": "code",
   "execution_count": 67,
   "metadata": {},
   "outputs": [],
   "source": [
    "import numpy as np\n",
    "import pandas as pd\n",
    "import datetime as dt\n"
   ]
  },
  {
   "cell_type": "markdown",
   "metadata": {},
   "source": [
    "# Reflect Tables into SQLAlchemy ORM"
   ]
  },
  {
   "cell_type": "code",
   "execution_count": 68,
   "metadata": {},
   "outputs": [],
   "source": [
    "# Python SQL toolkit and Object Relational Mapper\n",
    "import sqlalchemy\n",
    "from sqlalchemy.ext.automap import automap_base\n",
    "from sqlalchemy.orm import Session\n",
    "from sqlalchemy import create_engine, inspect, func\n",
    "\n",
    "from sqlalchemy.sql import operators, extract\n",
    "from dateutil.relativedelta import relativedelta\n",
    "from sqlalchemy import and_"
   ]
  },
  {
   "cell_type": "code",
   "execution_count": 69,
   "metadata": {},
   "outputs": [],
   "source": [
    "# Create_engine to connect to your sqlite database.\n",
    "\n",
    "engine = create_engine(\"sqlite:///Resources/hawaii.sqlite\")"
   ]
  },
  {
   "cell_type": "code",
   "execution_count": 70,
   "metadata": {},
   "outputs": [
    {
     "data": {
      "text/plain": [
       "['measurement', 'station']"
      ]
     },
     "execution_count": 70,
     "metadata": {},
     "output_type": "execute_result"
    }
   ],
   "source": [
    "# reflect an existing database into a new model\n",
    "\n",
    "# reflect the tables\n",
    "\n",
    "# Use the Inspector to explore the database and print the table names\n",
    "# YOUR CODE HERE\n",
    "inspector = inspect(engine)\n",
    "inspector.get_table_names()\n"
   ]
  },
  {
   "cell_type": "code",
   "execution_count": 71,
   "metadata": {},
   "outputs": [
    {
     "name": "stdout",
     "output_type": "stream",
     "text": [
      "id INTEGER\n",
      "station TEXT\n",
      "date TEXT\n",
      "prcp FLOAT\n",
      "tobs FLOAT\n"
     ]
    }
   ],
   "source": [
    "# Use Inspector to print the column names and types\n",
    "# YOUR CODE HERE\n",
    "columns = inspector.get_columns('measurement')\n",
    "for column in columns:\n",
    "    print(column[\"name\"], column[\"type\"])"
   ]
  },
  {
   "cell_type": "code",
   "execution_count": 72,
   "metadata": {},
   "outputs": [
    {
     "name": "stdout",
     "output_type": "stream",
     "text": [
      "id INTEGER\n",
      "station TEXT\n",
      "name TEXT\n",
      "latitude FLOAT\n",
      "longitude FLOAT\n",
      "elevation FLOAT\n"
     ]
    }
   ],
   "source": [
    "# Use Inspector to print the column names and types\n",
    "# YOUR CODE HERE\n",
    "columns = inspector.get_columns('station')\n",
    "for column in columns:\n",
    "    print(column[\"name\"], column[\"type\"])"
   ]
  },
  {
   "cell_type": "code",
   "execution_count": 73,
   "metadata": {},
   "outputs": [
    {
     "data": {
      "text/plain": [
       "[(1, 'USC00519397', '2010-01-01', 0.08, 65.0),\n",
       " (2, 'USC00519397', '2010-01-02', 0.0, 63.0),\n",
       " (3, 'USC00519397', '2010-01-03', 0.0, 74.0),\n",
       " (4, 'USC00519397', '2010-01-04', 0.0, 76.0),\n",
       " (5, 'USC00519397', '2010-01-06', None, 73.0),\n",
       " (6, 'USC00519397', '2010-01-07', 0.06, 70.0),\n",
       " (7, 'USC00519397', '2010-01-08', 0.0, 64.0),\n",
       " (8, 'USC00519397', '2010-01-09', 0.0, 68.0),\n",
       " (9, 'USC00519397', '2010-01-10', 0.0, 73.0),\n",
       " (10, 'USC00519397', '2010-01-11', 0.01, 64.0)]"
      ]
     },
     "execution_count": 73,
     "metadata": {},
     "output_type": "execute_result"
    }
   ],
   "source": [
    "# Use `engine.execute` to select and display the first 10 rows from the measurement table -- using CORE, pure SQL\n",
    "# YOUR CODE HERE\n",
    "\n",
    "engine.execute(\"SELECT * From measurement LIMIT 10\").fetchall()"
   ]
  },
  {
   "cell_type": "code",
   "execution_count": 74,
   "metadata": {},
   "outputs": [
    {
     "data": {
      "text/plain": [
       "[(1, 'USC00519397', 'WAIKIKI 717.2, HI US', 21.2716, -157.8168, 3.0),\n",
       " (2, 'USC00513117', 'KANEOHE 838.1, HI US', 21.4234, -157.8015, 14.6),\n",
       " (3, 'USC00514830', 'KUALOA RANCH HEADQUARTERS 886.9, HI US', 21.5213, -157.8374, 7.0),\n",
       " (4, 'USC00517948', 'PEARL CITY, HI US', 21.3934, -157.9751, 11.9),\n",
       " (5, 'USC00518838', 'UPPER WAHIAWA 874.3, HI US', 21.4992, -158.0111, 306.6),\n",
       " (6, 'USC00519523', 'WAIMANALO EXPERIMENTAL FARM, HI US', 21.33556, -157.71139, 19.5),\n",
       " (7, 'USC00519281', 'WAIHEE 837.5, HI US', 21.45167, -157.84888999999998, 32.9),\n",
       " (8, 'USC00511918', 'HONOLULU OBSERVATORY 702.2, HI US', 21.3152, -157.9992, 0.9),\n",
       " (9, 'USC00516128', 'MANOA LYON ARBO 785.2, HI US', 21.3331, -157.8025, 152.4)]"
      ]
     },
     "execution_count": 74,
     "metadata": {},
     "output_type": "execute_result"
    }
   ],
   "source": [
    "# Use `engine.execute` to select and display the first 10 rows from the measurement table -- using CORE, pure SQL\n",
    "# YOUR CODE HERE\n",
    "\n",
    "engine.execute(\"SELECT * From station LIMIT 10\").fetchall()"
   ]
  },
  {
   "cell_type": "markdown",
   "metadata": {},
   "source": [
    "### Reflect Database and Query"
   ]
  },
  {
   "cell_type": "code",
   "execution_count": 75,
   "metadata": {},
   "outputs": [],
   "source": [
    "# Use SQLAlchemy automap_base() to reflect your tables into classes and \n",
    "# save a reference to those classes called Station and Measurement.\n",
    "# View all of the classes that automap found\n",
    "# Reflect Database into ORM class\n",
    "\n",
    "Base = automap_base()\n",
    "Base.prepare(engine, reflect=True)\n",
    "Measurement = Base.classes.measurement"
   ]
  },
  {
   "cell_type": "code",
   "execution_count": 152,
   "metadata": {},
   "outputs": [],
   "source": [
    "# Save references to each table\n",
    "# Reflect Database into ORM class\n",
    "\n",
    "Base = automap_base()\n",
    "Base.prepare(engine, reflect=True)\n",
    "Station = Base.classes.station"
   ]
  },
  {
   "cell_type": "code",
   "execution_count": 153,
   "metadata": {},
   "outputs": [],
   "source": [
    "# Create our session (link) from Python to the DB\n",
    "# Start a session to query the database\n",
    "\n",
    "session = Session(engine)"
   ]
  },
  {
   "cell_type": "markdown",
   "metadata": {},
   "source": [
    "# Exploratory Precipitation Analysis"
   ]
  },
  {
   "cell_type": "markdown",
   "metadata": {},
   "source": [
    "## GRADER PLEASE NOTE\n",
    "\n",
    "* Some of the instructions are different from the original but still adhere to the rubric.\n",
    "* The students get the average precipitation per day instead of every single precipitation value."
   ]
  },
  {
   "cell_type": "code",
   "execution_count": 154,
   "metadata": {},
   "outputs": [
    {
     "data": {
      "text/plain": [
       "'2017-08-23'"
      ]
     },
     "execution_count": 154,
     "metadata": {},
     "output_type": "execute_result"
    }
   ],
   "source": [
    "# Find the most recent date in the data set.\n",
    "\n",
    "recent_date = session.query(Measurement.date).order_by(Measurement.date.desc()).first()[0]\n",
    "recent_date"
   ]
  },
  {
   "cell_type": "code",
   "execution_count": 155,
   "metadata": {},
   "outputs": [
    {
     "data": {
      "text/plain": [
       "datetime.datetime(2017, 8, 23, 0, 0)"
      ]
     },
     "execution_count": 155,
     "metadata": {},
     "output_type": "execute_result"
    }
   ],
   "source": [
    "# Converting str type date into datetime\n",
    "\n",
    "recent_date = dt.datetime.strptime(recent_date, '%Y-%m-%d')\n",
    "recent_date\n",
    "#type(recent_date)\n"
   ]
  },
  {
   "cell_type": "code",
   "execution_count": 156,
   "metadata": {},
   "outputs": [
    {
     "data": {
      "text/plain": [
       "2017"
      ]
     },
     "execution_count": 156,
     "metadata": {},
     "output_type": "execute_result"
    }
   ],
   "source": [
    "# To get the year from date in integer\n",
    "recent_year = int(dt.datetime.strftime(recent_date, '%Y'))\n",
    "recent_year"
   ]
  },
  {
   "cell_type": "code",
   "execution_count": 157,
   "metadata": {},
   "outputs": [
    {
     "data": {
      "text/plain": [
       "8"
      ]
     },
     "execution_count": 157,
     "metadata": {},
     "output_type": "execute_result"
    }
   ],
   "source": [
    "# To get the month from the date in integer\n",
    "recent_month = int(dt.datetime.strftime(recent_date, '%m'))\n",
    "recent_month"
   ]
  },
  {
   "cell_type": "code",
   "execution_count": 158,
   "metadata": {},
   "outputs": [
    {
     "data": {
      "text/plain": [
       "23"
      ]
     },
     "execution_count": 158,
     "metadata": {},
     "output_type": "execute_result"
    }
   ],
   "source": [
    "# To get the day from date in integer\n",
    "recent_day = int(dt.datetime.strftime(recent_date, '%d'))\n",
    "recent_day"
   ]
  },
  {
   "cell_type": "code",
   "execution_count": 159,
   "metadata": {},
   "outputs": [
    {
     "data": {
      "text/plain": [
       "datetime.date(2017, 8, 23)"
      ]
     },
     "execution_count": 159,
     "metadata": {},
     "output_type": "execute_result"
    }
   ],
   "source": [
    "query_date = dt.date(recent_year, recent_month, recent_day)\n",
    "type(query_date)\n",
    "query_date"
   ]
  },
  {
   "cell_type": "code",
   "execution_count": 160,
   "metadata": {},
   "outputs": [
    {
     "data": {
      "text/plain": [
       "relativedelta(years=+1)"
      ]
     },
     "execution_count": 160,
     "metadata": {},
     "output_type": "execute_result"
    }
   ],
   "source": [
    "# 12 month relativedelta\n",
    "\n",
    "twelve_mon_rel = relativedelta(months=12)\n",
    "twelve_mon_rel\n"
   ]
  },
  {
   "cell_type": "code",
   "execution_count": 161,
   "metadata": {},
   "outputs": [
    {
     "name": "stdout",
     "output_type": "stream",
     "text": [
      "Query Date:  2016-08-23\n"
     ]
    },
    {
     "data": {
      "text/plain": [
       "datetime.date(2016, 8, 23)"
      ]
     },
     "execution_count": 161,
     "metadata": {},
     "output_type": "execute_result"
    }
   ],
   "source": [
    "# Query for the date 12 months from '2017-08-23'` using the datetime library\n",
    "\n",
    "query_date1 = query_date - twelve_mon_rel\n",
    "print(\"Query Date: \", query_date1)\n",
    "type(query_date1)\n",
    "query_date1"
   ]
  },
  {
   "cell_type": "code",
   "execution_count": 199,
   "metadata": {},
   "outputs": [
    {
     "data": {
      "text/plain": [
       "[('2016-08-23', 0.19395522388059697),\n",
       " ('2016-09-01', 0.285549132947977),\n",
       " ('2016-10-01', 0.12162011173184357),\n",
       " ('2016-11-01', 0.12023391812865496),\n",
       " ('2016-12-01', 0.19949438202247183),\n",
       " ('2017-01-01', 0.07029411764705881),\n",
       " ('2017-02-01', 0.24111111111111108),\n",
       " ('2017-03-01', 0.17526627218934915),\n",
       " ('2017-04-01', 0.32111111111111107),\n",
       " ('2017-05-01', 0.15131736526946113),\n",
       " ('2017-06-01', 0.11999999999999998),\n",
       " ('2017-07-01', 0.13477272727272727)]"
      ]
     },
     "execution_count": 199,
     "metadata": {},
     "output_type": "execute_result"
    }
   ],
   "source": [
    "# Using this date, find the average precipitation per day\n",
    "# for the preceding 12 months of data sorted by ascending date.\n",
    "\n",
    "\n",
    "twelve_month_prcp = session.query(Measurement.date, func.avg(Measurement.prcp)).\\\n",
    "        filter(and_(Measurement.date >= (dt.date(recent_year, recent_month, recent_day) - twelve_mon_rel),\\\n",
    "                Measurement.date <= dt.date(recent_year, recent_month, recent_day))).\\\n",
    "                group_by(func.strftime(\"%m\", Measurement.date)).\\\n",
    "                order_by(Measurement.date).all() \n",
    "                            \n",
    "twelve_month_prcp"
   ]
  },
  {
   "cell_type": "code",
   "execution_count": 170,
   "metadata": {},
   "outputs": [
    {
     "data": {
      "text/plain": [
       "0     0.193955\n",
       "1     0.285549\n",
       "2     0.121620\n",
       "3     0.120234\n",
       "4     0.199494\n",
       "5     0.070294\n",
       "6     0.241111\n",
       "7     0.175266\n",
       "8     0.321111\n",
       "9     0.151317\n",
       "10    0.120000\n",
       "11    0.134773\n",
       "Name: Average_Precipitation, dtype: float64"
      ]
     },
     "execution_count": 170,
     "metadata": {},
     "output_type": "execute_result"
    }
   ],
   "source": [
    "# Convert your results into a pandas DataFrame with date as index.\n",
    "# 'twelve_month_data' is a list of tuples,which doesn't have any assigned names to it, so we are assigning names to the columns\n",
    "\n",
    "df = pd.DataFrame(twelve_month_prcp, columns=['Date', 'Average_Precipitation'])\n",
    "df['Average_Precipitation']\n"
   ]
  },
  {
   "cell_type": "code",
   "execution_count": 171,
   "metadata": {},
   "outputs": [
    {
     "data": {
      "image/png": "[encoded data removed]",
      "text/plain": [
       "<Figure size 432x288 with 1 Axes>"
      ]
     },
     "metadata": {},
     "output_type": "display_data"
    },
    {
     "data": {
      "text/plain": [
       "<Figure size 864x864 with 0 Axes>"
      ]
     },
     "metadata": {},
     "output_type": "display_data"
    }
   ],
   "source": [
    "# Use Pandas Plotting with Matplotlib to plot the data\n",
    "# to tell what the x_axis should be\n",
    "\n",
    "df.set_index('Date', inplace=True)\n",
    "df.plot.bar()\n",
    "plt.figure(figsize=(12,12))\n",
    "plt.tight_layout()\n",
    "plt.savefig(\"../sqlalchemy-challenge/prcp.png\")\n",
    "plt.show()"
   ]
  },
  {
   "cell_type": "code",
   "execution_count": 165,
   "metadata": {},
   "outputs": [],
   "source": [
    "# Use Pandas to calculate the summary statistics for the precipitation data"
   ]
  },
  {
   "cell_type": "code",
   "execution_count": 166,
   "metadata": {},
   "outputs": [],
   "source": [
    "import pandas as pd\n",
    "import matplotlib.pyplot as plt\n",
    "import scipy.stats as sts\n",
    "import numpy as np"
   ]
  },
  {
   "cell_type": "code",
   "execution_count": 167,
   "metadata": {},
   "outputs": [
    {
     "name": "stdout",
     "output_type": "stream",
     "text": [
      "The average precipitation  is 0.17789378944269693\n",
      "The median average precipitation is 0.16329181872940512\n",
      "The mode average precipitation is ModeResult(mode=array([0.07029412]), count=array([1]))\n"
     ]
    }
   ],
   "source": [
    "# Demonstrate calculating measures of central tendency\n",
    "mean_numpy = np.mean(df['Average_Precipitation'])\n",
    "print(f\"The average precipitation  is {mean_numpy}\")\n",
    "\n",
    "median_numpy = np.median(df['Average_Precipitation'])\n",
    "print(f\"The median average precipitation is {median_numpy}\")\n",
    "\n",
    "mode_scipy = sts.mode(df['Average_Precipitation'])\n",
    "print(f\"The mode average precipitation is {mode_scipy}\")"
   ]
  },
  {
   "cell_type": "markdown",
   "metadata": {},
   "source": [
    "# Exploratory Station Analysis"
   ]
  },
  {
   "cell_type": "code",
   "execution_count": 92,
   "metadata": {},
   "outputs": [
    {
     "data": {
      "text/plain": [
       "[(19550)]"
      ]
     },
     "execution_count": 92,
     "metadata": {},
     "output_type": "execute_result"
    }
   ],
   "source": [
    "# Query total number of stations in dataset\n",
    "total_stations = session.query(func.count(Measurement.station)).all()\n",
    "total_stations"
   ]
  },
  {
   "cell_type": "code",
   "execution_count": 93,
   "metadata": {},
   "outputs": [
    {
     "data": {
      "text/plain": [
       "[('USC00519281', 2772),\n",
       " ('USC00519397', 2724),\n",
       " ('USC00513117', 2709),\n",
       " ('USC00519523', 2669),\n",
       " ('USC00516128', 2612),\n",
       " ('USC00514830', 2202),\n",
       " ('USC00511918', 1979),\n",
       " ('USC00517948', 1372),\n",
       " ('USC00518838', 511)]"
      ]
     },
     "execution_count": 93,
     "metadata": {},
     "output_type": "execute_result"
    }
   ],
   "source": [
    "# What are the most active stations? (i.e. what stations have the most rows)?\n",
    "# List the stations and the counts in descending order.\n",
    "\n",
    "active_stations = session.query(Measurement.station, func.count(Measurement.station)).\\\n",
    "                        group_by(Measurement.station).\\\n",
    "                        order_by(func.count(Measurement.station).desc()).all()\n",
    "active_stations"
   ]
  },
  {
   "cell_type": "code",
   "execution_count": 94,
   "metadata": {},
   "outputs": [
    {
     "data": {
      "text/plain": [
       "('USC00519281', 2772)"
      ]
     },
     "execution_count": 94,
     "metadata": {},
     "output_type": "execute_result"
    }
   ],
   "source": [
    "# Retrieving the first row of of most active stations\n",
    "active_stations = session.query(Measurement.station, func.count(Measurement.station)).\\\n",
    "                        group_by(Measurement.station).\\\n",
    "                        order_by(func.count(Measurement.station).desc()).first()\n",
    "active_stations"
   ]
  },
  {
   "cell_type": "code",
   "execution_count": 206,
   "metadata": {},
   "outputs": [
    {
     "data": {
      "text/plain": [
       "'USC00519281'"
      ]
     },
     "execution_count": 206,
     "metadata": {},
     "output_type": "execute_result"
    }
   ],
   "source": [
    " # Convert list of tuples into normal list\n",
    "\n",
    "greatest_num_obs = list(np.ravel(active_stations))\n",
    "station_name = greatest_num_obs[0]\n",
    "station_name"
   ]
  },
  {
   "cell_type": "code",
   "execution_count": 216,
   "metadata": {},
   "outputs": [
    {
     "data": {
      "text/plain": [
       "[(85.0, 54.0, 71.66378066378067)]"
      ]
     },
     "execution_count": 216,
     "metadata": {},
     "output_type": "execute_result"
    }
   ],
   "source": [
    "# Using the station id from the previous query, calculate the lowest, \n",
    "# highest, and average temperature recorded for this station.\n",
    "def calc_temps(station_name):\n",
    "    temp_aggregations = session.query(func.max(Measurement.tobs), func.min(Measurement.tobs), func.avg(Measurement.tobs)).\\\n",
    "                filter(Measurement.station == station_name).all()\n",
    "  \n",
    "    return (temp_aggregations)\n",
    "\n",
    "temp_aggregations = calc_temps(station_name)\n",
    "temp_aggregations"
   ]
  },
  {
   "cell_type": "code",
   "execution_count": 220,
   "metadata": {},
   "outputs": [
    {
     "data": {
      "text/plain": [
       "[('2016-08-23', 77.0),\n",
       " ('2016-09-01', 80.0),\n",
       " ('2016-10-01', 77.0),\n",
       " ('2016-11-01', 74.0),\n",
       " ('2016-12-01', 74.0),\n",
       " ('2017-01-01', 72.0),\n",
       " ('2017-02-01', 68.0),\n",
       " ('2017-03-01', 71.0),\n",
       " ('2017-04-01', 74.0),\n",
       " ('2017-05-01', 65.0),\n",
       " ('2017-06-01', 80.0),\n",
       " ('2017-07-01', 79.0)]"
      ]
     },
     "execution_count": 220,
     "metadata": {},
     "output_type": "execute_result"
    }
   ],
   "source": [
    "# Query the last 12 months of temperature observation data for this station.\n",
    "# Plot the results as a histogram with bins = 12.\n",
    "def twelve_month_calc(station_name):\n",
    "    twelve_month_tobs = session.query(Measurement.date, Measurement.tobs).\\\n",
    "            filter(and_(Measurement.date >= (dt.date(2017, 8, 23) - twelve_mon_rel)),\\\n",
    "                Measurement.date <= (dt.date(2017, 8, 23)),\\\n",
    "                Measurement.station == station_name).\\\n",
    "                group_by(func.strftime(\"%m\", Measurement.date)).\\\n",
    "                order_by(Measurement.date).all()  \n",
    "    return(twelve_month_tobs)\n",
    "\n",
    "twelve_month_tobs = twelve_month_calc(station_name)\n",
    "twelve_month_tobs"
   ]
  },
  {
   "cell_type": "code",
   "execution_count": 221,
   "metadata": {},
   "outputs": [
    {
     "data": {
      "text/plain": [
       "[('2016-09-01', 80.0),\n",
       " ('2016-09-01', 80.0),\n",
       " ('2016-09-01', 80.0),\n",
       " ('2016-09-01', 80.0),\n",
       " ('2016-09-01', 80.0),\n",
       " ('2016-09-01', 80.0),\n",
       " ('2016-09-01', 80.0),\n",
       " ('2016-09-01', 80.0),\n",
       " ('2016-09-01', 80.0),\n",
       " ('2016-09-01', 80.0),\n",
       " ('2016-09-01', 80.0),\n",
       " ('2016-09-01', 80.0)]"
      ]
     },
     "execution_count": 221,
     "metadata": {},
     "output_type": "execute_result"
    }
   ],
   "source": [
    "obs_list = [twelve_month_tobs[1] for result in twelve_month_tobs]\n",
    "obs_list"
   ]
  },
  {
   "cell_type": "code",
   "execution_count": 219,
   "metadata": {},
   "outputs": [
    {
     "data": {
      "image/png": "[encoded data removed]",
      "text/plain": [
       "<Figure size 432x288 with 1 Axes>"
      ]
     },
     "metadata": {},
     "output_type": "display_data"
    }
   ],
   "source": [
    "# Plot the results as a histogram with bins = 12\n",
    "# 'twelve_month_data' is a list of tuples,which doesn't have any assigned names to it, so we are assigning names to the columns\n",
    "\n",
    "df = pd.DataFrame(twelve_month_tobs, columns=['Date', 'Temperature'])\n",
    "df.set_index(df['Temperature'], inplace=True)\n",
    "\n",
    "plt.hist(df['Temperature'], bins=12)\n",
    "\n",
    "plt.xlabel(\"Temperature(F)\")\n",
    "plt.ylabel(\"Frequency\")\n",
    "plt.title(\"Twelve Months Temperature Obs.\")\n",
    "plt.savefig(\"../sqlalchemy-challenge/Temps.png\")\n",
    "plt.show()\n",
    "\n"
   ]
  },
  {
   "cell_type": "code",
   "execution_count": 179,
   "metadata": {},
   "outputs": [
    {
     "data": {
      "text/plain": [
       "[('2017-08-23', 76.0, 80.25, 82.0)]"
      ]
     },
     "execution_count": 179,
     "metadata": {},
     "output_type": "execute_result"
    }
   ],
   "source": [
    "# Create a query that returns the minimum temperature, the average temperature,\n",
    "# and the max temperature for a given start or start-end range.\n",
    "\n",
    "# you put the columns what you want to see in the output in this list \n",
    "\n",
    "start_date = '2017-08-23'\n",
    "\n",
    "start_date = dt.datetime.strptime(start_date, '%Y-%m-%d')\n",
    "year = int(dt.datetime.strftime(start_date, '%Y'))\n",
    "month = int(dt.datetime.strftime(start_date, '%m'))\n",
    "day = int(dt.datetime.strftime(start_date, '%d'))\n",
    "start_date = (dt.date(year, month, day))\n",
    "              \n",
    "sel = [Measurement.date,\n",
    "       func.min(Measurement.tobs), \n",
    "       func.avg(Measurement.tobs),  \n",
    "       func.max(Measurement.tobs)]\n",
    "\n",
    "             \n",
    "# Now query from sel data columns '\n",
    "# .all() takes the result and puts into a list of tuples\n",
    "\n",
    "start_date_aggregates = session.query(*sel).\\\n",
    "          filter(Measurement.date == (start_date)).all() \n",
    "                  \n",
    "start_date_aggregates    "
   ]
  },
  {
   "cell_type": "code",
   "execution_count": 201,
   "metadata": {},
   "outputs": [
    {
     "data": {
      "text/plain": [
       "[(56.0, 74.42747111681643, 86.0)]"
      ]
     },
     "execution_count": 201,
     "metadata": {},
     "output_type": "execute_result"
    }
   ],
   "source": [
    "# Create a query that returns the minimum temperature, the average temperature,\n",
    "# and the max temperature for a given start-end range.\n",
    "\n",
    "# you put the columns what you want to see in the output in this list \n",
    "\n",
    "start_date = '2015-08-23'\n",
    "end_date = '2016-08-23'\n",
    "\n",
    "start_date = dt.datetime.strptime(start_date, '%Y-%m-%d')\n",
    "year = int(dt.datetime.strftime(start_date, '%Y'))\n",
    "month = int(dt.datetime.strftime(start_date, '%m'))\n",
    "day = int(dt.datetime.strftime(start_date, '%d'))\n",
    "start_date = (dt.date(year, month, day))\n",
    "\n",
    "end_date = dt.datetime.strptime(end_date, '%Y-%m-%d')\n",
    "year = int(dt.datetime.strftime(end_date, '%Y'))\n",
    "month = int(dt.datetime.strftime(end_date, '%m'))\n",
    "day = int(dt.datetime.strftime(end_date, '%d'))\n",
    "end_date = (dt.date(year, month, day))\n",
    "              \n",
    "sel = [func.min(Measurement.tobs), \n",
    "      func.avg(Measurement.tobs),  \n",
    "       func.max(Measurement.tobs)]\n",
    "       \n",
    "\n",
    "             \n",
    "# Now query from sel data columns '\n",
    "# .all() takes the result and puts into a list of tuples\n",
    "\n",
    "range_aggregates = session.query(*sel).\\\n",
    "          filter(and_(Measurement.date > start_date), (Measurement.date < end_date)) .\\\n",
    "          all() \n",
    "                  \n",
    "range_aggregates    "
   ]
  },
  {
   "cell_type": "code",
   "execution_count": 196,
   "metadata": {},
   "outputs": [
    {
     "data": {
      "text/plain": [
       "[(58.0, 74.59058295964125, 87.0)]"
      ]
     },
     "execution_count": 196,
     "metadata": {},
     "output_type": "execute_result"
    }
   ],
   "source": [
    "# When given the start date only, calculate min, max, \n",
    "# and avg for all dates greater than and equal to the start date.\n",
    "\n",
    "# you put the columns what you want to see in the output in this list \n",
    "\n",
    "start_date = '2016-08-23'\n",
    "\n",
    "\n",
    "start_date = dt.datetime.strptime(start_date, '%Y-%m-%d')\n",
    "year = int(dt.datetime.strftime(start_date, '%Y'))\n",
    "month = int(dt.datetime.strftime(start_date, '%m'))\n",
    "day = int(dt.datetime.strftime(start_date, '%d'))\n",
    "start_date = (dt.date(year, month, day))\n",
    "\n",
    "\n",
    "              \n",
    "sel = [func.min(Measurement.tobs), \n",
    "       func.avg(Measurement.tobs),  \n",
    "       func.max(Measurement.tobs)]\n",
    "       \n",
    "\n",
    "             \n",
    "# Now query from sel data columns '\n",
    "# .all() takes the result and puts into a list of tuples\n",
    "\n",
    "range_aggregates = session.query(*sel).\\\n",
    "          filter(Measurement.date >= start_date).\\\n",
    "          all() \n",
    "                  \n",
    "range_aggregates    "
   ]
  },
  {
   "cell_type": "code",
   "execution_count": 202,
   "metadata": {},
   "outputs": [
    {
     "data": {
      "text/plain": [
       "[(56.0, 74.45063829787235, 86.0)]"
      ]
     },
     "execution_count": 202,
     "metadata": {},
     "output_type": "execute_result"
    }
   ],
   "source": [
    "# When given the start and the end date, calculate the minimum, average, \n",
    "# and maximum obvserved temperature for dates between the start and end date inclusive.\n",
    "\n",
    "# you put the columns what you want to see in the output in this list \n",
    "\n",
    "start_date = '2015-08-23'\n",
    "end_date = '2016-08-23'\n",
    "\n",
    "start_date = dt.datetime.strptime(start_date, '%Y-%m-%d')\n",
    "year = int(dt.datetime.strftime(start_date, '%Y'))\n",
    "month = int(dt.datetime.strftime(start_date, '%m'))\n",
    "day = int(dt.datetime.strftime(start_date, '%d'))\n",
    "start_date = (dt.date(year, month, day))\n",
    "\n",
    "end_date = dt.datetime.strptime(end_date, '%Y-%m-%d')\n",
    "year = int(dt.datetime.strftime(end_date, '%Y'))\n",
    "month = int(dt.datetime.strftime(end_date, '%m'))\n",
    "day = int(dt.datetime.strftime(end_date, '%d'))\n",
    "end_date = (dt.date(year, month, day))\n",
    "              \n",
    "sel = [func.min(Measurement.tobs), \n",
    "      func.avg(Measurement.tobs),  \n",
    "       func.max(Measurement.tobs)]\n",
    "       \n",
    "\n",
    "             \n",
    "# Now query from sel data columns '\n",
    "# .all() takes the result and puts into a list of tuples\n",
    "\n",
    "range_aggregates = session.query(*sel).\\\n",
    "          filter(and_(Measurement.date >= start_date), (Measurement.date <= end_date)) .\\\n",
    "          all() \n",
    "                  \n",
    "range_aggregates    "
   ]
  },
  {
   "cell_type": "code",
   "execution_count": null,
   "metadata": {},
   "outputs": [],
   "source": [
    "# Return a JSONified dictionary of these minimum, maximum, and average temperatures.\n",
    "\n"
   ]
  },
  {
   "cell_type": "code",
   "execution_count": null,
   "metadata": {},
   "outputs": [],
   "source": [
    "\n",
    "\n"
   ]
  },
  {
   "cell_type": "code",
   "execution_count": null,
   "metadata": {},
   "outputs": [],
   "source": []
  },
  {
   "cell_type": "code",
   "execution_count": 110,
   "metadata": {},
   "outputs": [],
   "source": [
    "session.close()"
   ]
  }
 ],
 "metadata": {
  "finalized": {
   "timestamp": 1622725208764,
   "trusted": false
  },
  "kernel_info": {
   "name": "python3"
  },
  "kernelspec": {
   "display_name": "Python [conda env:PythonData] *",
   "language": "python",
   "name": "conda-env-PythonData-py"
  },
  "language_info": {
   "codemirror_mode": {
    "name": "ipython",
    "version": 3
   },
   "file_extension": ".py",
   "mimetype": "text/x-python",
   "name": "python",
   "nbconvert_exporter": "python",
   "pygments_lexer": "ipython3",
   "version": "3.6.10"
  },
  "nteract": {
   "version": "0.12.3"
  },
  "toc": {
   "base_numbering": 1,
   "nav_menu": {},
   "number_sections": true,
   "sideBar": true,
   "skip_h1_title": false,
   "title_cell": "Table of Contents",
   "title_sidebar": "Contents",
   "toc_cell": false,
   "toc_position": {},
   "toc_section_display": true,
   "toc_window_display": false
  },
  "varInspector": {
   "cols": {
    "lenName": 16,
    "lenType": 16,
    "lenVar": 40
   },
   "kernels_config": {
    "python": {
     "delete_cmd_postfix": "",
     "delete_cmd_prefix": "del ",
     "library": "var_list.py",
     "varRefreshCmd": "print(var_dic_list())"
    },
    "r": {
     "delete_cmd_postfix": ") ",
     "delete_cmd_prefix": "rm(",
     "library": "var_list.r",
     "varRefreshCmd": "cat(var_dic_list()) "
    }
   },
   "types_to_exclude": [
    "module",
    "function",
    "builtin_function_or_method",
    "instance",
    "_Feature"
   ],
   "window_display": false
  }
 },
 "nbformat": 4,
 "nbformat_minor": 2
}
