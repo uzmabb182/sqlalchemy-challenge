{
 "cells": [
  {
   "cell_type": "code",
   "execution_count": 2,
   "metadata": {},
   "outputs": [],
   "source": [
    "%matplotlib inline\n",
    "from matplotlib import style\n",
    "style.use('fivethirtyeight')\n",
    "import matplotlib.pyplot as plt\n"
   ]
  },
  {
   "cell_type": "code",
   "execution_count": 3,
   "metadata": {},
   "outputs": [],
   "source": [
    "import numpy as np\n",
    "import pandas as pd\n",
    "import datetime as dt\n"
   ]
  },
  {
   "cell_type": "markdown",
   "metadata": {},
   "source": [
    "# Reflect Tables into SQLAlchemy ORM"
   ]
  },
  {
   "cell_type": "code",
   "execution_count": 4,
   "metadata": {},
   "outputs": [],
   "source": [
    "# Python SQL toolkit and Object Relational Mapper\n",
    "import sqlalchemy\n",
    "from sqlalchemy.ext.automap import automap_base\n",
    "from sqlalchemy.orm import Session\n",
    "from sqlalchemy import create_engine, inspect, func\n",
    "\n",
    "from sqlalchemy.sql import operators, extract\n",
    "from dateutil.relativedelta import relativedelta\n",
    "from sqlalchemy import and_"
   ]
  },
  {
   "cell_type": "code",
   "execution_count": 5,
   "metadata": {},
   "outputs": [],
   "source": [
    "# Create_engine to connect to your sqlite database.\n",
    "\n",
    "engine = create_engine(\"sqlite:///Resources/hawaii.sqlite\")"
   ]
  },
  {
   "cell_type": "code",
   "execution_count": 6,
   "metadata": {},
   "outputs": [
    {
     "data": {
      "text/plain": [
       "['measurement', 'station']"
      ]
     },
     "execution_count": 6,
     "metadata": {},
     "output_type": "execute_result"
    }
   ],
   "source": [
    "# reflect an existing database into a new model\n",
    "\n",
    "# reflect the tables\n",
    "\n",
    "# Use the Inspector to explore the database and print the table names\n",
    "# YOUR CODE HERE\n",
    "inspector = inspect(engine)\n",
    "inspector.get_table_names()\n"
   ]
  },
  {
   "cell_type": "code",
   "execution_count": 7,
   "metadata": {},
   "outputs": [
    {
     "name": "stdout",
     "output_type": "stream",
     "text": [
      "id INTEGER\n",
      "station TEXT\n",
      "date TEXT\n",
      "prcp FLOAT\n",
      "tobs FLOAT\n"
     ]
    }
   ],
   "source": [
    "# Use Inspector to print the column names and types\n",
    "# YOUR CODE HERE\n",
    "columns = inspector.get_columns('measurement')\n",
    "for column in columns:\n",
    "    print(column[\"name\"], column[\"type\"])"
   ]
  },
  {
   "cell_type": "code",
   "execution_count": 8,
   "metadata": {},
   "outputs": [
    {
     "name": "stdout",
     "output_type": "stream",
     "text": [
      "id INTEGER\n",
      "station TEXT\n",
      "name TEXT\n",
      "latitude FLOAT\n",
      "longitude FLOAT\n",
      "elevation FLOAT\n"
     ]
    }
   ],
   "source": [
    "# Use Inspector to print the column names and types\n",
    "# YOUR CODE HERE\n",
    "columns = inspector.get_columns('station')\n",
    "for column in columns:\n",
    "    print(column[\"name\"], column[\"type\"])"
   ]
  },
  {
   "cell_type": "code",
   "execution_count": 9,
   "metadata": {},
   "outputs": [
    {
     "data": {
      "text/plain": [
       "[(1, 'USC00519397', '2010-01-01', 0.08, 65.0),\n",
       " (2, 'USC00519397', '2010-01-02', 0.0, 63.0),\n",
       " (3, 'USC00519397', '2010-01-03', 0.0, 74.0),\n",
       " (4, 'USC00519397', '2010-01-04', 0.0, 76.0),\n",
       " (5, 'USC00519397', '2010-01-06', None, 73.0),\n",
       " (6, 'USC00519397', '2010-01-07', 0.06, 70.0),\n",
       " (7, 'USC00519397', '2010-01-08', 0.0, 64.0),\n",
       " (8, 'USC00519397', '2010-01-09', 0.0, 68.0),\n",
       " (9, 'USC00519397', '2010-01-10', 0.0, 73.0),\n",
       " (10, 'USC00519397', '2010-01-11', 0.01, 64.0)]"
      ]
     },
     "execution_count": 9,
     "metadata": {},
     "output_type": "execute_result"
    }
   ],
   "source": [
    "# Use `engine.execute` to select and display the first 10 rows from the measurement table -- using CORE, pure SQL\n",
    "# YOUR CODE HERE\n",
    "\n",
    "engine.execute(\"SELECT * From measurement LIMIT 10\").fetchall()"
   ]
  },
  {
   "cell_type": "code",
   "execution_count": 10,
   "metadata": {},
   "outputs": [
    {
     "data": {
      "text/plain": [
       "[(1, 'USC00519397', 'WAIKIKI 717.2, HI US', 21.2716, -157.8168, 3.0),\n",
       " (2, 'USC00513117', 'KANEOHE 838.1, HI US', 21.4234, -157.8015, 14.6),\n",
       " (3, 'USC00514830', 'KUALOA RANCH HEADQUARTERS 886.9, HI US', 21.5213, -157.8374, 7.0),\n",
       " (4, 'USC00517948', 'PEARL CITY, HI US', 21.3934, -157.9751, 11.9),\n",
       " (5, 'USC00518838', 'UPPER WAHIAWA 874.3, HI US', 21.4992, -158.0111, 306.6),\n",
       " (6, 'USC00519523', 'WAIMANALO EXPERIMENTAL FARM, HI US', 21.33556, -157.71139, 19.5),\n",
       " (7, 'USC00519281', 'WAIHEE 837.5, HI US', 21.45167, -157.84888999999998, 32.9),\n",
       " (8, 'USC00511918', 'HONOLULU OBSERVATORY 702.2, HI US', 21.3152, -157.9992, 0.9),\n",
       " (9, 'USC00516128', 'MANOA LYON ARBO 785.2, HI US', 21.3331, -157.8025, 152.4)]"
      ]
     },
     "execution_count": 10,
     "metadata": {},
     "output_type": "execute_result"
    }
   ],
   "source": [
    "# Use `engine.execute` to select and display the first 10 rows from the measurement table -- using CORE, pure SQL\n",
    "# YOUR CODE HERE\n",
    "\n",
    "engine.execute(\"SELECT * From station LIMIT 10\").fetchall()"
   ]
  },
  {
   "cell_type": "markdown",
   "metadata": {},
   "source": [
    "### Reflect Database and Query"
   ]
  },
  {
   "cell_type": "code",
   "execution_count": 28,
   "metadata": {},
   "outputs": [],
   "source": [
    "# Use SQLAlchemy automap_base() to reflect your tables into classes and \n",
    "# save a reference to those classes called Station and Measurement.\n",
    "# View all of the classes that automap found\n",
    "# Reflect Database into ORM class\n",
    "\n",
    "Base = automap_base()\n",
    "Base.prepare(engine, reflect=True)\n",
    "Measurement = Base.classes.measurement"
   ]
  },
  {
   "cell_type": "code",
   "execution_count": 29,
   "metadata": {},
   "outputs": [],
   "source": [
    "# Save references to each table\n",
    "# Reflect Database into ORM class\n",
    "\n",
    "Base = automap_base()\n",
    "Base.prepare(engine, reflect=True)\n",
    "Station = Base.classes.station"
   ]
  },
  {
   "cell_type": "code",
   "execution_count": 30,
   "metadata": {},
   "outputs": [],
   "source": [
    "# Create our session (link) from Python to the DB\n",
    "# Start a session to query the database\n",
    "\n",
    "session = Session(engine)"
   ]
  },
  {
   "cell_type": "markdown",
   "metadata": {},
   "source": [
    "# Exploratory Precipitation Analysis"
   ]
  },
  {
   "cell_type": "markdown",
   "metadata": {},
   "source": [
    "## GRADER PLEASE NOTE\n",
    "\n",
    "* Some of the instructions are different from the original but still adhere to the rubric.\n",
    "* The students get the average precipitation per day instead of every single precipitation value."
   ]
  },
  {
   "cell_type": "code",
   "execution_count": 384,
   "metadata": {},
   "outputs": [
    {
     "data": {
      "text/plain": [
       "'2017-08-23'"
      ]
     },
     "execution_count": 384,
     "metadata": {},
     "output_type": "execute_result"
    }
   ],
   "source": [
    "# Find the most recent date in the data set.\n",
    "\n",
    "recent_date = session.query(Measurement.date).order_by(Measurement.date.desc()).first()[0]\n",
    "recent_date"
   ]
  },
  {
   "cell_type": "code",
   "execution_count": 385,
   "metadata": {},
   "outputs": [
    {
     "data": {
      "text/plain": [
       "datetime.datetime(2017, 8, 23, 0, 0)"
      ]
     },
     "execution_count": 385,
     "metadata": {},
     "output_type": "execute_result"
    }
   ],
   "source": [
    "# Converting str type date into datetime\n",
    "\n",
    "recent_date = dt.datetime.strptime(recent_date, '%Y-%m-%d') \n",
    "recent_date\n",
    "#type(recent_date)\n"
   ]
  },
  {
   "cell_type": "code",
   "execution_count": 386,
   "metadata": {},
   "outputs": [
    {
     "data": {
      "text/plain": [
       "relativedelta(years=+1)"
      ]
     },
     "execution_count": 386,
     "metadata": {},
     "output_type": "execute_result"
    }
   ],
   "source": [
    "# 12 month relativedelta\n",
    "\n",
    "twelve_mon_rel = relativedelta(months=12)\n",
    "twelve_mon_rel"
   ]
  },
  {
   "cell_type": "code",
   "execution_count": 387,
   "metadata": {},
   "outputs": [
    {
     "data": {
      "text/plain": [
       "relativedelta(years=+1)"
      ]
     },
     "execution_count": 387,
     "metadata": {},
     "output_type": "execute_result"
    }
   ],
   "source": [
    "# 12 month relativedelta\n",
    "\n",
    "twelve_mon_rel = relativedelta(months=12)\n",
    "twelve_mon_rel\n"
   ]
  },
  {
   "cell_type": "code",
   "execution_count": 388,
   "metadata": {},
   "outputs": [
    {
     "data": {
      "text/plain": [
       "datetime.datetime(2016, 8, 23, 0, 0)"
      ]
     },
     "execution_count": 388,
     "metadata": {},
     "output_type": "execute_result"
    }
   ],
   "source": [
    "# Query for the previous date--12 months from '2017-08-23'` using the datetime library\n",
    "\n",
    "query_date = recent_date - twelve_mon_rel\n",
    "type(query_date)\n",
    "query_date"
   ]
  },
  {
   "cell_type": "code",
   "execution_count": 389,
   "metadata": {},
   "outputs": [
    {
     "data": {
      "text/plain": [
       "[('2016-08-24', 0.08),\n",
       " ('2016-08-25', 0.08),\n",
       " ('2016-08-26', 0.0),\n",
       " ('2016-08-27', 0.0),\n",
       " ('2016-08-28', 0.01),\n",
       " ('2016-08-29', 0.0),\n",
       " ('2016-08-30', 0.0),\n",
       " ('2016-08-31', 0.13),\n",
       " ('2016-09-01', 0.0),\n",
       " ('2016-09-02', 0.0),\n",
       " ('2016-09-03', 0.0),\n",
       " ('2016-09-04', 0.03),\n",
       " ('2016-09-05', None),\n",
       " ('2016-09-06', None),\n",
       " ('2016-09-07', 0.05),\n",
       " ('2016-09-08', 0.0),\n",
       " ('2016-09-09', 0.03),\n",
       " ('2016-09-10', 0.0),\n",
       " ('2016-09-11', 0.05),\n",
       " ('2016-09-12', 0.0),\n",
       " ('2016-09-13', 0.02),\n",
       " ('2016-09-14', 1.32),\n",
       " ('2016-09-15', 0.42),\n",
       " ('2016-09-16', 0.06),\n",
       " ('2016-09-17', 0.05),\n",
       " ('2016-09-18', 0.0),\n",
       " ('2016-09-19', 0.0),\n",
       " ('2016-09-20', 0.0),\n",
       " ('2016-09-21', 0.0),\n",
       " ('2016-09-22', 0.02),\n",
       " ('2016-09-23', 0.0)]"
      ]
     },
     "execution_count": 389,
     "metadata": {},
     "output_type": "execute_result"
    }
   ],
   "source": [
    "# Using this date, find the average precipitation per day\n",
    "# for the preceding 12 months of data sorted by ascending date.\n",
    "\n",
    "\n",
    "results = session.query(Measurement.date, Measurement.prcp).\\\n",
    "        filter(and_(Measurement.date >= query_date,\\\n",
    "                Measurement.date <= recent_date)).\\\n",
    "                group_by(func.strftime(\"%d\", Measurement.date)).\\\n",
    "                order_by(Measurement.date).all() \n",
    "                            \n",
    "results"
   ]
  },
  {
   "cell_type": "code",
   "execution_count": 390,
   "metadata": {},
   "outputs": [
    {
     "data": {
      "text/plain": [
       "{'2016-08-24': 0.08,\n",
       " '2016-08-25': 0.08,\n",
       " '2016-08-26': 0.0,\n",
       " '2016-08-27': 0.0,\n",
       " '2016-08-28': 0.01,\n",
       " '2016-08-29': 0.0,\n",
       " '2016-08-30': 0.0,\n",
       " '2016-08-31': 0.13,\n",
       " '2016-09-01': 0.0,\n",
       " '2016-09-02': 0.0,\n",
       " '2016-09-03': 0.0,\n",
       " '2016-09-04': 0.03,\n",
       " '2016-09-05': None,\n",
       " '2016-09-06': None,\n",
       " '2016-09-07': 0.05,\n",
       " '2016-09-08': 0.0,\n",
       " '2016-09-09': 0.03,\n",
       " '2016-09-10': 0.0,\n",
       " '2016-09-11': 0.05,\n",
       " '2016-09-12': 0.0,\n",
       " '2016-09-13': 0.02,\n",
       " '2016-09-14': 1.32,\n",
       " '2016-09-15': 0.42,\n",
       " '2016-09-16': 0.06,\n",
       " '2016-09-17': 0.05,\n",
       " '2016-09-18': 0.0,\n",
       " '2016-09-19': 0.0,\n",
       " '2016-09-20': 0.0,\n",
       " '2016-09-21': 0.0,\n",
       " '2016-09-22': 0.02,\n",
       " '2016-09-23': 0.0}"
      ]
     },
     "execution_count": 390,
     "metadata": {},
     "output_type": "execute_result"
    }
   ],
   "source": [
    "# converting into dictionary\n",
    "\n",
    "prcp_dict = {}\n",
    "for row in results:\n",
    "    prcp_dict[row[0]] = row[1]\n",
    "prcp_dict    \n",
    "                        \n",
    "    "
   ]
  },
  {
   "cell_type": "code",
   "execution_count": 409,
   "metadata": {},
   "outputs": [
    {
     "data": {
      "image/png": "[encoded data removed]",
      "text/plain": [
       "<Figure size 432x288 with 1 Axes>"
      ]
     },
     "metadata": {},
     "output_type": "display_data"
    },
    {
     "data": {
      "text/plain": [
       "<Figure size 864x864 with 0 Axes>"
      ]
     },
     "metadata": {},
     "output_type": "display_data"
    }
   ],
   "source": [
    "# Convert your results into a pandas DataFrame with date as index.\n",
    "# 'twelve_month_data' is a list of tuples,which doesn't have any assigned names to it, so we are assigning names to the columns\n",
    "\n",
    "df = pd.DataFrame(twelve_month_prcp, columns=['Date', 'Average_Precipitation'])\n",
    "#df['Average_Precipitation']\n",
    "\n",
    "# Use Pandas Plotting with Matplotlib to plot the data\n",
    "# to tell what the x_axis should be\n",
    "\n",
    "df.set_index(df['Date'], inplace=True)\n",
    "#df.set_index('Date', inplace=True)\n",
    "#df.plot()\n",
    "df.plot(rot=90)\n",
    "plt.figure(figsize=(12,12))\n",
    "plt.tight_layout()\n",
    "#plt.savefig(\"../sqlalchemy-challenge/prcp.png\")\n",
    "plt.show()"
   ]
  },
  {
   "cell_type": "code",
   "execution_count": 392,
   "metadata": {},
   "outputs": [],
   "source": [
    "# Use Pandas to calculate the summary statistics for the precipitation data"
   ]
  },
  {
   "cell_type": "code",
   "execution_count": 393,
   "metadata": {},
   "outputs": [],
   "source": [
    "import pandas as pd\n",
    "import matplotlib.pyplot as plt\n",
    "import scipy.stats as sts\n",
    "import numpy as np"
   ]
  },
  {
   "cell_type": "code",
   "execution_count": 296,
   "metadata": {},
   "outputs": [
    {
     "name": "stdout",
     "output_type": "stream",
     "text": [
      "The average precipitation  is 0.17646153846153848\n",
      "The median average precipitation is nan\n",
      "The mode average precipitation is ModeResult(mode=array([0.]), count=array([873]))\n"
     ]
    }
   ],
   "source": [
    "# Demonstrate calculating measures of central tendency\n",
    "mean_numpy = np.mean(df['Average_Precipitation'])\n",
    "print(f\"The average precipitation  is {mean_numpy}\")\n",
    "\n",
    "median_numpy = np.median(df['Average_Precipitation'])\n",
    "print(f\"The median average precipitation is {median_numpy}\")\n",
    "\n",
    "mode_scipy = sts.mode(df['Average_Precipitation'])\n",
    "print(f\"The mode average precipitation is {mode_scipy}\")"
   ]
  },
  {
   "cell_type": "markdown",
   "metadata": {},
   "source": [
    "# Exploratory Station Analysis"
   ]
  },
  {
   "cell_type": "code",
   "execution_count": 298,
   "metadata": {},
   "outputs": [
    {
     "data": {
      "text/plain": [
       "[(19550)]"
      ]
     },
     "execution_count": 298,
     "metadata": {},
     "output_type": "execute_result"
    }
   ],
   "source": [
    "# Query total number of stations in dataset\n",
    "total_stations = session.query(func.count(Measurement.station)).all()\n",
    "total_stations"
   ]
  },
  {
   "cell_type": "code",
   "execution_count": 317,
   "metadata": {},
   "outputs": [],
   "source": [
    "# list of stations from the dataset.\n",
    "\n",
    "stations_list = session.query(Measurement.station).\\\n",
    "                        group_by(Measurement.station).\\\n",
    "                        order_by(Measurement.station).all()\n",
    "\n",
    "stations_list = list(np.ravel(stations_list))\n",
    "#stations_list"
   ]
  },
  {
   "cell_type": "code",
   "execution_count": 299,
   "metadata": {},
   "outputs": [
    {
     "data": {
      "text/plain": [
       "[('USC00519281', 2772),\n",
       " ('USC00519397', 2724),\n",
       " ('USC00513117', 2709),\n",
       " ('USC00519523', 2669),\n",
       " ('USC00516128', 2612),\n",
       " ('USC00514830', 2202),\n",
       " ('USC00511918', 1979),\n",
       " ('USC00517948', 1372),\n",
       " ('USC00518838', 511)]"
      ]
     },
     "execution_count": 299,
     "metadata": {},
     "output_type": "execute_result"
    }
   ],
   "source": [
    "# What are the most active stations? (i.e. what stations have the most rows)?\n",
    "# List the most active stations and the counts in descending order.\n",
    "\n",
    "active_stations = session.query(Measurement.station, func.count(Measurement.station)).\\\n",
    "                        group_by(Measurement.station).\\\n",
    "                        order_by(func.count(Measurement.station).desc()).all()\n",
    "active_stations"
   ]
  },
  {
   "cell_type": "code",
   "execution_count": 300,
   "metadata": {},
   "outputs": [
    {
     "data": {
      "text/plain": [
       "('USC00519281', 2772)"
      ]
     },
     "execution_count": 300,
     "metadata": {},
     "output_type": "execute_result"
    }
   ],
   "source": [
    "# Retrieving the first row of of most active stations\n",
    "active_stations = session.query(Measurement.station, func.count(Measurement.station)).\\\n",
    "                        group_by(Measurement.station).\\\n",
    "                        order_by(func.count(Measurement.station).desc()).first()\n",
    "active_stations"
   ]
  },
  {
   "cell_type": "code",
   "execution_count": 301,
   "metadata": {},
   "outputs": [
    {
     "data": {
      "text/plain": [
       "'USC00519281'"
      ]
     },
     "execution_count": 301,
     "metadata": {},
     "output_type": "execute_result"
    }
   ],
   "source": [
    " # Convert list of tuples into normal list and retrieving 'station name'\n",
    "\n",
    "greatest_num_obs = list(np.ravel(active_stations))\n",
    "station_name = greatest_num_obs[0]\n",
    "station_name"
   ]
  },
  {
   "cell_type": "code",
   "execution_count": 302,
   "metadata": {},
   "outputs": [
    {
     "data": {
      "text/plain": [
       "[(85.0, 54.0, 71.66378066378067)]"
      ]
     },
     "execution_count": 302,
     "metadata": {},
     "output_type": "execute_result"
    }
   ],
   "source": [
    "# Using the station id from the previous query, calculate the lowest, \n",
    "# highest, and average temperature recorded for this station.\n",
    "def calc_temps(station_name):\n",
    "    temp_aggregations = session.query(func.max(Measurement.tobs), func.min(Measurement.tobs), func.avg(Measurement.tobs)).\\\n",
    "                filter(Measurement.station == station_name).all()\n",
    "  \n",
    "    return (temp_aggregations)\n",
    "\n",
    "temp_aggregations = calc_temps(station_name)\n",
    "temp_aggregations"
   ]
  },
  {
   "cell_type": "code",
   "execution_count": 331,
   "metadata": {},
   "outputs": [
    {
     "data": {
      "text/plain": [
       "[('2016-08-24', 77.0),\n",
       " ('2016-08-25', 80.0),\n",
       " ('2016-08-26', 80.0),\n",
       " ('2016-08-27', 75.0),\n",
       " ('2016-08-28', 73.0),\n",
       " ('2016-08-29', 78.0),\n",
       " ('2016-08-30', 77.0),\n",
       " ('2016-08-31', 78.0),\n",
       " ('2016-09-01', 80.0),\n",
       " ('2016-09-02', 80.0),\n",
       " ('2016-09-03', 78.0),\n",
       " ('2016-09-04', 78.0),\n",
       " ('2016-09-05', 78.0),\n",
       " ('2016-09-06', 73.0),\n",
       " ('2016-09-07', 74.0),\n",
       " ('2016-09-08', 80.0),\n",
       " ('2016-09-09', 79.0),\n",
       " ('2016-09-10', 77.0),\n",
       " ('2016-09-11', 80.0),\n",
       " ('2016-09-12', 76.0),\n",
       " ('2016-09-13', 79.0),\n",
       " ('2016-09-14', 75.0),\n",
       " ('2016-09-15', 79.0),\n",
       " ('2016-09-16', 78.0),\n",
       " ('2016-09-17', 79.0),\n",
       " ('2016-09-18', 78.0),\n",
       " ('2016-09-19', 78.0),\n",
       " ('2016-09-20', 76.0),\n",
       " ('2016-09-21', 74.0),\n",
       " ('2016-09-22', 77.0),\n",
       " ('2016-09-23', 78.0),\n",
       " ('2016-09-24', 79.0),\n",
       " ('2016-09-25', 79.0),\n",
       " ('2016-09-26', 77.0),\n",
       " ('2016-09-27', 80.0),\n",
       " ('2016-09-28', 78.0),\n",
       " ('2016-09-29', 78.0),\n",
       " ('2016-09-30', 78.0),\n",
       " ('2016-10-01', 77.0),\n",
       " ('2016-10-02', 79.0),\n",
       " ('2016-10-03', 79.0),\n",
       " ('2016-10-04', 79.0),\n",
       " ('2016-10-05', 79.0),\n",
       " ('2016-10-06', 75.0),\n",
       " ('2016-10-07', 76.0),\n",
       " ('2016-10-08', 73.0),\n",
       " ('2016-10-09', 72.0),\n",
       " ('2016-10-10', 71.0),\n",
       " ('2016-10-11', 77.0),\n",
       " ('2016-10-12', 79.0),\n",
       " ('2016-10-13', 78.0),\n",
       " ('2016-10-14', 79.0),\n",
       " ('2016-10-15', 77.0),\n",
       " ('2016-10-16', 79.0),\n",
       " ('2016-10-17', 77.0),\n",
       " ('2016-10-18', 78.0),\n",
       " ('2016-10-19', 78.0),\n",
       " ('2016-10-20', 78.0),\n",
       " ('2016-10-21', 78.0),\n",
       " ('2016-10-22', 77.0),\n",
       " ('2016-10-23', 74.0),\n",
       " ('2016-10-24', 75.0),\n",
       " ('2016-10-25', 76.0),\n",
       " ('2016-10-26', 73.0),\n",
       " ('2016-10-27', 76.0),\n",
       " ('2016-10-28', 74.0),\n",
       " ('2016-10-29', 77.0),\n",
       " ('2016-10-30', 76.0),\n",
       " ('2016-10-31', 76.0),\n",
       " ('2016-11-01', 74.0),\n",
       " ('2016-11-02', 75.0),\n",
       " ('2016-11-03', 75.0),\n",
       " ('2016-11-04', 75.0),\n",
       " ('2016-11-05', 75.0),\n",
       " ('2016-11-06', 71.0),\n",
       " ('2016-11-07', 63.0),\n",
       " ('2016-11-08', 70.0),\n",
       " ('2016-11-09', 68.0),\n",
       " ('2016-11-10', 67.0),\n",
       " ('2016-11-11', 77.0),\n",
       " ('2016-11-12', 74.0),\n",
       " ('2016-11-13', 77.0),\n",
       " ('2016-11-14', 76.0),\n",
       " ('2016-11-15', 76.0),\n",
       " ('2016-11-16', 75.0),\n",
       " ('2016-11-17', 76.0),\n",
       " ('2016-11-18', 75.0),\n",
       " ('2016-11-19', 73.0),\n",
       " ('2016-11-20', 75.0),\n",
       " ('2016-11-21', 73.0),\n",
       " ('2016-11-22', 75.0),\n",
       " ('2016-11-23', 74.0),\n",
       " ('2016-11-24', 75.0),\n",
       " ('2016-11-25', 74.0),\n",
       " ('2016-11-26', 75.0),\n",
       " ('2016-11-27', 73.0),\n",
       " ('2016-11-28', 75.0),\n",
       " ('2016-11-29', 73.0),\n",
       " ('2016-11-30', 73.0),\n",
       " ('2016-12-01', 74.0),\n",
       " ('2016-12-02', 70.0),\n",
       " ('2016-12-03', 72.0),\n",
       " ('2016-12-04', 70.0),\n",
       " ('2016-12-05', 67.0),\n",
       " ('2016-12-06', 67.0),\n",
       " ('2016-12-07', 69.0),\n",
       " ('2016-12-08', 70.0),\n",
       " ('2016-12-09', 68.0),\n",
       " ('2016-12-10', 69.0),\n",
       " ('2016-12-11', 69.0),\n",
       " ('2016-12-12', 66.0),\n",
       " ('2016-12-13', 65.0),\n",
       " ('2016-12-14', 68.0),\n",
       " ('2016-12-15', 62.0),\n",
       " ('2016-12-16', 75.0),\n",
       " ('2016-12-17', 70.0),\n",
       " ('2016-12-18', 69.0),\n",
       " ('2016-12-19', 76.0),\n",
       " ('2016-12-20', 76.0),\n",
       " ('2016-12-21', 74.0),\n",
       " ('2016-12-22', 73.0),\n",
       " ('2016-12-23', 71.0),\n",
       " ('2016-12-24', 74.0),\n",
       " ('2016-12-25', 74.0),\n",
       " ('2016-12-26', 72.0),\n",
       " ('2016-12-27', 71.0),\n",
       " ('2016-12-28', 72.0),\n",
       " ('2016-12-29', 74.0),\n",
       " ('2016-12-30', 69.0),\n",
       " ('2016-12-31', 67.0),\n",
       " ('2017-01-01', 72.0),\n",
       " ('2017-01-02', 70.0),\n",
       " ('2017-01-03', 64.0),\n",
       " ('2017-01-04', 63.0),\n",
       " ('2017-01-05', 63.0),\n",
       " ('2017-01-06', 62.0),\n",
       " ('2017-01-07', 70.0),\n",
       " ('2017-01-08', 70.0),\n",
       " ('2017-01-09', 62.0),\n",
       " ('2017-01-10', 62.0),\n",
       " ('2017-01-11', 63.0),\n",
       " ('2017-01-12', 65.0),\n",
       " ('2017-01-13', 69.0),\n",
       " ('2017-01-14', 77.0),\n",
       " ('2017-01-15', 70.0),\n",
       " ('2017-01-16', 74.0),\n",
       " ('2017-01-17', 69.0),\n",
       " ('2017-01-18', 72.0),\n",
       " ('2017-01-19', 71.0),\n",
       " ('2017-01-20', 69.0),\n",
       " ('2017-01-21', 71.0),\n",
       " ('2017-01-22', 71.0),\n",
       " ('2017-01-23', 72.0),\n",
       " ('2017-01-24', 72.0),\n",
       " ('2017-01-25', 69.0),\n",
       " ('2017-01-26', 70.0),\n",
       " ('2017-01-27', 66.0),\n",
       " ('2017-01-28', 65.0),\n",
       " ('2017-01-29', 69.0),\n",
       " ('2017-01-30', 68.0),\n",
       " ('2017-01-31', 68.0),\n",
       " ('2017-02-01', 68.0),\n",
       " ('2017-02-02', 59.0),\n",
       " ('2017-02-03', 60.0),\n",
       " ('2017-02-04', 70.0),\n",
       " ('2017-02-05', 73.0),\n",
       " ('2017-02-06', 75.0),\n",
       " ('2017-02-07', 64.0),\n",
       " ('2017-02-08', 59.0),\n",
       " ('2017-02-09', 59.0),\n",
       " ('2017-02-10', 62.0),\n",
       " ('2017-02-11', 68.0),\n",
       " ('2017-02-12', 70.0),\n",
       " ('2017-02-13', 73.0),\n",
       " ('2017-02-14', 79.0),\n",
       " ('2017-02-15', 75.0),\n",
       " ('2017-02-16', 65.0),\n",
       " ('2017-02-17', 70.0),\n",
       " ('2017-02-18', 74.0),\n",
       " ('2017-02-19', 70.0),\n",
       " ('2017-02-20', 70.0),\n",
       " ('2017-02-21', 71.0),\n",
       " ('2017-02-22', 71.0),\n",
       " ('2017-02-23', 71.0),\n",
       " ('2017-02-24', 69.0),\n",
       " ('2017-02-25', 61.0),\n",
       " ('2017-02-26', 67.0),\n",
       " ('2017-02-27', 65.0),\n",
       " ('2017-02-28', 72.0),\n",
       " ('2017-03-01', 71.0),\n",
       " ('2017-03-02', 73.0),\n",
       " ('2017-03-03', 72.0),\n",
       " ('2017-03-04', 77.0),\n",
       " ('2017-03-05', 73.0),\n",
       " ('2017-03-06', 67.0),\n",
       " ('2017-03-07', 62.0),\n",
       " ('2017-03-08', 64.0),\n",
       " ('2017-03-09', 67.0),\n",
       " ('2017-03-10', 66.0),\n",
       " ('2017-03-11', 81.0),\n",
       " ('2017-03-12', 69.0),\n",
       " ('2017-03-13', 66.0),\n",
       " ('2017-03-14', 67.0),\n",
       " ('2017-03-15', 69.0),\n",
       " ('2017-03-16', 66.0),\n",
       " ('2017-03-17', 68.0),\n",
       " ('2017-03-18', 65.0),\n",
       " ('2017-03-19', 74.0),\n",
       " ('2017-03-20', 69.0),\n",
       " ('2017-03-21', 72.0),\n",
       " ('2017-03-22', 73.0),\n",
       " ('2017-03-23', 72.0),\n",
       " ('2017-03-24', 71.0),\n",
       " ('2017-03-25', 76.0),\n",
       " ('2017-03-26', 77.0),\n",
       " ('2017-03-27', 76.0),\n",
       " ('2017-03-28', 74.0),\n",
       " ('2017-03-29', 68.0),\n",
       " ('2017-03-30', 73.0),\n",
       " ('2017-03-31', 71.0),\n",
       " ('2017-04-01', 74.0),\n",
       " ('2017-04-02', 75.0),\n",
       " ('2017-04-03', 70.0),\n",
       " ('2017-04-04', 67.0),\n",
       " ('2017-04-05', 71.0),\n",
       " ('2017-04-06', 67.0),\n",
       " ('2017-04-07', 74.0),\n",
       " ('2017-04-08', 77.0),\n",
       " ('2017-04-09', 78.0),\n",
       " ('2017-04-10', 67.0),\n",
       " ('2017-04-11', 70.0),\n",
       " ('2017-04-12', 69.0),\n",
       " ('2017-04-13', 69.0),\n",
       " ('2017-04-14', 74.0),\n",
       " ('2017-04-15', 78.0),\n",
       " ('2017-04-16', 71.0),\n",
       " ('2017-04-17', 67.0),\n",
       " ('2017-04-18', 68.0),\n",
       " ('2017-04-19', 67.0),\n",
       " ('2017-04-20', 76.0),\n",
       " ('2017-04-21', 69.0),\n",
       " ('2017-04-22', 72.0),\n",
       " ('2017-04-23', 76.0),\n",
       " ('2017-04-24', 68.0),\n",
       " ('2017-04-25', 72.0),\n",
       " ('2017-04-26', 74.0),\n",
       " ('2017-04-27', 70.0),\n",
       " ('2017-04-28', 67.0),\n",
       " ('2017-04-29', 72.0),\n",
       " ('2017-04-30', 60.0),\n",
       " ('2017-05-01', 65.0),\n",
       " ('2017-05-02', 75.0),\n",
       " ('2017-05-03', 70.0),\n",
       " ('2017-05-04', 75.0),\n",
       " ('2017-05-05', 70.0),\n",
       " ('2017-05-06', 79.0),\n",
       " ('2017-05-07', 75.0),\n",
       " ('2017-05-08', 70.0),\n",
       " ('2017-05-09', 67.0),\n",
       " ('2017-05-10', 74.0),\n",
       " ('2017-05-11', 70.0),\n",
       " ('2017-05-12', 75.0),\n",
       " ('2017-05-13', 76.0),\n",
       " ('2017-05-14', 77.0),\n",
       " ('2017-05-15', 74.0),\n",
       " ('2017-05-16', 74.0),\n",
       " ('2017-05-17', 74.0),\n",
       " ('2017-05-18', 69.0),\n",
       " ('2017-05-19', 68.0),\n",
       " ('2017-05-20', 76.0),\n",
       " ('2017-05-21', 74.0),\n",
       " ('2017-05-22', 71.0),\n",
       " ('2017-05-23', 71.0),\n",
       " ('2017-05-24', 74.0),\n",
       " ('2017-05-25', 74.0),\n",
       " ('2017-05-26', 74.0),\n",
       " ('2017-05-27', 74.0),\n",
       " ('2017-05-28', 80.0),\n",
       " ('2017-05-29', 74.0),\n",
       " ('2017-05-30', 72.0),\n",
       " ('2017-05-31', 75.0),\n",
       " ('2017-06-01', 80.0),\n",
       " ('2017-06-02', 76.0),\n",
       " ('2017-06-03', 76.0),\n",
       " ('2017-06-04', 77.0),\n",
       " ('2017-06-05', 75.0),\n",
       " ('2017-06-06', 75.0),\n",
       " ('2017-06-07', 75.0),\n",
       " ('2017-06-08', 75.0),\n",
       " ('2017-06-09', 72.0),\n",
       " ('2017-06-10', 74.0),\n",
       " ('2017-06-11', 74.0),\n",
       " ('2017-06-12', 74.0),\n",
       " ('2017-06-13', 76.0),\n",
       " ('2017-06-14', 74.0),\n",
       " ('2017-06-15', 75.0),\n",
       " ('2017-06-16', 73.0),\n",
       " ('2017-06-17', 79.0),\n",
       " ('2017-06-18', 75.0),\n",
       " ('2017-06-19', 72.0),\n",
       " ('2017-06-20', 72.0),\n",
       " ('2017-06-21', 74.0),\n",
       " ('2017-06-22', 72.0),\n",
       " ('2017-06-23', 72.0),\n",
       " ('2017-06-24', 77.0),\n",
       " ('2017-06-25', 71.0),\n",
       " ('2017-06-26', 73.0),\n",
       " ('2017-06-27', 76.0),\n",
       " ('2017-06-28', 77.0),\n",
       " ('2017-06-29', 76.0),\n",
       " ('2017-06-30', 76.0),\n",
       " ('2017-07-01', 79.0),\n",
       " ('2017-07-02', 81.0),\n",
       " ('2017-07-03', 76.0),\n",
       " ('2017-07-04', 78.0),\n",
       " ('2017-07-05', 77.0),\n",
       " ('2017-07-06', 74.0),\n",
       " ('2017-07-07', 75.0),\n",
       " ('2017-07-08', 78.0),\n",
       " ('2017-07-09', 78.0),\n",
       " ('2017-07-10', 69.0),\n",
       " ('2017-07-11', 72.0),\n",
       " ('2017-07-12', 74.0),\n",
       " ('2017-07-13', 74.0),\n",
       " ('2017-07-14', 76.0),\n",
       " ('2017-07-15', 80.0),\n",
       " ('2017-07-16', 80.0),\n",
       " ('2017-07-17', 76.0),\n",
       " ('2017-07-18', 76.0),\n",
       " ('2017-07-19', 76.0),\n",
       " ('2017-07-20', 77.0),\n",
       " ('2017-07-21', 77.0),\n",
       " ('2017-07-22', 77.0),\n",
       " ('2017-07-23', 82.0),\n",
       " ('2017-07-24', 75.0),\n",
       " ('2017-07-25', 77.0),\n",
       " ('2017-07-26', 75.0),\n",
       " ('2017-07-27', 76.0),\n",
       " ('2017-07-28', 81.0),\n",
       " ('2017-07-29', 82.0),\n",
       " ('2017-07-30', 81.0),\n",
       " ('2017-07-31', 76.0),\n",
       " ('2017-08-04', 77.0),\n",
       " ('2017-08-05', 82.0),\n",
       " ('2017-08-06', 83.0),\n",
       " ('2017-08-13', 77.0),\n",
       " ('2017-08-14', 77.0),\n",
       " ('2017-08-15', 77.0),\n",
       " ('2017-08-16', 76.0),\n",
       " ('2017-08-17', 76.0),\n",
       " ('2017-08-18', 79.0)]"
      ]
     },
     "execution_count": 331,
     "metadata": {},
     "output_type": "execute_result"
    }
   ],
   "source": [
    "# Query the last 12 months of temperature observation data for this station.\n",
    "# Plot the results as a histogram with bins = 12.\n",
    "\n",
    "def twelve_month_calc(station_name, query_date1, recent_date):\n",
    "    results = session.query(Measurement.date, Measurement.tobs).\\\n",
    "            filter(and_(Measurement.date >= query_date,\\\n",
    "                    Measurement.date <= recent_date,\\\n",
    "                    Measurement.station == station_name)).all()               \n",
    "    \n",
    "    return(results)\n",
    "\n",
    "twelve_month_tobs = twelve_month_calc(station_name, query_date, recent_date)\n",
    "twelve_month_tobs"
   ]
  },
  {
   "cell_type": "code",
   "execution_count": 360,
   "metadata": {},
   "outputs": [
    {
     "data": {
      "text/plain": [
       "{'2016-08-24': 77.0,\n",
       " '2016-08-25': 80.0,\n",
       " '2016-08-26': 80.0,\n",
       " '2016-08-27': 75.0,\n",
       " '2016-08-28': 73.0,\n",
       " '2016-08-29': 78.0,\n",
       " '2016-08-30': 77.0,\n",
       " '2016-08-31': 78.0,\n",
       " '2016-09-01': 80.0,\n",
       " '2016-09-02': 80.0,\n",
       " '2016-09-03': 78.0,\n",
       " '2016-09-04': 78.0,\n",
       " '2016-09-05': 78.0,\n",
       " '2016-09-06': 73.0,\n",
       " '2016-09-07': 74.0,\n",
       " '2016-09-08': 80.0,\n",
       " '2016-09-09': 79.0,\n",
       " '2016-09-10': 77.0,\n",
       " '2016-09-11': 80.0,\n",
       " '2016-09-12': 76.0,\n",
       " '2016-09-13': 79.0,\n",
       " '2016-09-14': 75.0,\n",
       " '2016-09-15': 79.0,\n",
       " '2016-09-16': 78.0,\n",
       " '2016-09-17': 79.0,\n",
       " '2016-09-18': 78.0,\n",
       " '2016-09-19': 78.0,\n",
       " '2016-09-20': 76.0,\n",
       " '2016-09-21': 74.0,\n",
       " '2016-09-22': 77.0,\n",
       " '2016-09-23': 78.0,\n",
       " '2016-09-24': 79.0,\n",
       " '2016-09-25': 79.0,\n",
       " '2016-09-26': 77.0,\n",
       " '2016-09-27': 80.0,\n",
       " '2016-09-28': 78.0,\n",
       " '2016-09-29': 78.0,\n",
       " '2016-09-30': 78.0,\n",
       " '2016-10-01': 77.0,\n",
       " '2016-10-02': 79.0,\n",
       " '2016-10-03': 79.0,\n",
       " '2016-10-04': 79.0,\n",
       " '2016-10-05': 79.0,\n",
       " '2016-10-06': 75.0,\n",
       " '2016-10-07': 76.0,\n",
       " '2016-10-08': 73.0,\n",
       " '2016-10-09': 72.0,\n",
       " '2016-10-10': 71.0,\n",
       " '2016-10-11': 77.0,\n",
       " '2016-10-12': 79.0,\n",
       " '2016-10-13': 78.0,\n",
       " '2016-10-14': 79.0,\n",
       " '2016-10-15': 77.0,\n",
       " '2016-10-16': 79.0,\n",
       " '2016-10-17': 77.0,\n",
       " '2016-10-18': 78.0,\n",
       " '2016-10-19': 78.0,\n",
       " '2016-10-20': 78.0,\n",
       " '2016-10-21': 78.0,\n",
       " '2016-10-22': 77.0,\n",
       " '2016-10-23': 74.0,\n",
       " '2016-10-24': 75.0,\n",
       " '2016-10-25': 76.0,\n",
       " '2016-10-26': 73.0,\n",
       " '2016-10-27': 76.0,\n",
       " '2016-10-28': 74.0,\n",
       " '2016-10-29': 77.0,\n",
       " '2016-10-30': 76.0,\n",
       " '2016-10-31': 76.0,\n",
       " '2016-11-01': 74.0,\n",
       " '2016-11-02': 75.0,\n",
       " '2016-11-03': 75.0,\n",
       " '2016-11-04': 75.0,\n",
       " '2016-11-05': 75.0,\n",
       " '2016-11-06': 71.0,\n",
       " '2016-11-07': 63.0,\n",
       " '2016-11-08': 70.0,\n",
       " '2016-11-09': 68.0,\n",
       " '2016-11-10': 67.0,\n",
       " '2016-11-11': 77.0,\n",
       " '2016-11-12': 74.0,\n",
       " '2016-11-13': 77.0,\n",
       " '2016-11-14': 76.0,\n",
       " '2016-11-15': 76.0,\n",
       " '2016-11-16': 75.0,\n",
       " '2016-11-17': 76.0,\n",
       " '2016-11-18': 75.0,\n",
       " '2016-11-19': 73.0,\n",
       " '2016-11-20': 75.0,\n",
       " '2016-11-21': 73.0,\n",
       " '2016-11-22': 75.0,\n",
       " '2016-11-23': 74.0,\n",
       " '2016-11-24': 75.0,\n",
       " '2016-11-25': 74.0,\n",
       " '2016-11-26': 75.0,\n",
       " '2016-11-27': 73.0,\n",
       " '2016-11-28': 75.0,\n",
       " '2016-11-29': 73.0,\n",
       " '2016-11-30': 73.0,\n",
       " '2016-12-01': 74.0,\n",
       " '2016-12-02': 70.0,\n",
       " '2016-12-03': 72.0,\n",
       " '2016-12-04': 70.0,\n",
       " '2016-12-05': 67.0,\n",
       " '2016-12-06': 67.0,\n",
       " '2016-12-07': 69.0,\n",
       " '2016-12-08': 70.0,\n",
       " '2016-12-09': 68.0,\n",
       " '2016-12-10': 69.0,\n",
       " '2016-12-11': 69.0,\n",
       " '2016-12-12': 66.0,\n",
       " '2016-12-13': 65.0,\n",
       " '2016-12-14': 68.0,\n",
       " '2016-12-15': 62.0,\n",
       " '2016-12-16': 75.0,\n",
       " '2016-12-17': 70.0,\n",
       " '2016-12-18': 69.0,\n",
       " '2016-12-19': 76.0,\n",
       " '2016-12-20': 76.0,\n",
       " '2016-12-21': 74.0,\n",
       " '2016-12-22': 73.0,\n",
       " '2016-12-23': 71.0,\n",
       " '2016-12-24': 74.0,\n",
       " '2016-12-25': 74.0,\n",
       " '2016-12-26': 72.0,\n",
       " '2016-12-27': 71.0,\n",
       " '2016-12-28': 72.0,\n",
       " '2016-12-29': 74.0,\n",
       " '2016-12-30': 69.0,\n",
       " '2016-12-31': 67.0,\n",
       " '2017-01-01': 72.0,\n",
       " '2017-01-02': 70.0,\n",
       " '2017-01-03': 64.0,\n",
       " '2017-01-04': 63.0,\n",
       " '2017-01-05': 63.0,\n",
       " '2017-01-06': 62.0,\n",
       " '2017-01-07': 70.0,\n",
       " '2017-01-08': 70.0,\n",
       " '2017-01-09': 62.0,\n",
       " '2017-01-10': 62.0,\n",
       " '2017-01-11': 63.0,\n",
       " '2017-01-12': 65.0,\n",
       " '2017-01-13': 69.0,\n",
       " '2017-01-14': 77.0,\n",
       " '2017-01-15': 70.0,\n",
       " '2017-01-16': 74.0,\n",
       " '2017-01-17': 69.0,\n",
       " '2017-01-18': 72.0,\n",
       " '2017-01-19': 71.0,\n",
       " '2017-01-20': 69.0,\n",
       " '2017-01-21': 71.0,\n",
       " '2017-01-22': 71.0,\n",
       " '2017-01-23': 72.0,\n",
       " '2017-01-24': 72.0,\n",
       " '2017-01-25': 69.0,\n",
       " '2017-01-26': 70.0,\n",
       " '2017-01-27': 66.0,\n",
       " '2017-01-28': 65.0,\n",
       " '2017-01-29': 69.0,\n",
       " '2017-01-30': 68.0,\n",
       " '2017-01-31': 68.0,\n",
       " '2017-02-01': 68.0,\n",
       " '2017-02-02': 59.0,\n",
       " '2017-02-03': 60.0,\n",
       " '2017-02-04': 70.0,\n",
       " '2017-02-05': 73.0,\n",
       " '2017-02-06': 75.0,\n",
       " '2017-02-07': 64.0,\n",
       " '2017-02-08': 59.0,\n",
       " '2017-02-09': 59.0,\n",
       " '2017-02-10': 62.0,\n",
       " '2017-02-11': 68.0,\n",
       " '2017-02-12': 70.0,\n",
       " '2017-02-13': 73.0,\n",
       " '2017-02-14': 79.0,\n",
       " '2017-02-15': 75.0,\n",
       " '2017-02-16': 65.0,\n",
       " '2017-02-17': 70.0,\n",
       " '2017-02-18': 74.0,\n",
       " '2017-02-19': 70.0,\n",
       " '2017-02-20': 70.0,\n",
       " '2017-02-21': 71.0,\n",
       " '2017-02-22': 71.0,\n",
       " '2017-02-23': 71.0,\n",
       " '2017-02-24': 69.0,\n",
       " '2017-02-25': 61.0,\n",
       " '2017-02-26': 67.0,\n",
       " '2017-02-27': 65.0,\n",
       " '2017-02-28': 72.0,\n",
       " '2017-03-01': 71.0,\n",
       " '2017-03-02': 73.0,\n",
       " '2017-03-03': 72.0,\n",
       " '2017-03-04': 77.0,\n",
       " '2017-03-05': 73.0,\n",
       " '2017-03-06': 67.0,\n",
       " '2017-03-07': 62.0,\n",
       " '2017-03-08': 64.0,\n",
       " '2017-03-09': 67.0,\n",
       " '2017-03-10': 66.0,\n",
       " '2017-03-11': 81.0,\n",
       " '2017-03-12': 69.0,\n",
       " '2017-03-13': 66.0,\n",
       " '2017-03-14': 67.0,\n",
       " '2017-03-15': 69.0,\n",
       " '2017-03-16': 66.0,\n",
       " '2017-03-17': 68.0,\n",
       " '2017-03-18': 65.0,\n",
       " '2017-03-19': 74.0,\n",
       " '2017-03-20': 69.0,\n",
       " '2017-03-21': 72.0,\n",
       " '2017-03-22': 73.0,\n",
       " '2017-03-23': 72.0,\n",
       " '2017-03-24': 71.0,\n",
       " '2017-03-25': 76.0,\n",
       " '2017-03-26': 77.0,\n",
       " '2017-03-27': 76.0,\n",
       " '2017-03-28': 74.0,\n",
       " '2017-03-29': 68.0,\n",
       " '2017-03-30': 73.0,\n",
       " '2017-03-31': 71.0,\n",
       " '2017-04-01': 74.0,\n",
       " '2017-04-02': 75.0,\n",
       " '2017-04-03': 70.0,\n",
       " '2017-04-04': 67.0,\n",
       " '2017-04-05': 71.0,\n",
       " '2017-04-06': 67.0,\n",
       " '2017-04-07': 74.0,\n",
       " '2017-04-08': 77.0,\n",
       " '2017-04-09': 78.0,\n",
       " '2017-04-10': 67.0,\n",
       " '2017-04-11': 70.0,\n",
       " '2017-04-12': 69.0,\n",
       " '2017-04-13': 69.0,\n",
       " '2017-04-14': 74.0,\n",
       " '2017-04-15': 78.0,\n",
       " '2017-04-16': 71.0,\n",
       " '2017-04-17': 67.0,\n",
       " '2017-04-18': 68.0,\n",
       " '2017-04-19': 67.0,\n",
       " '2017-04-20': 76.0,\n",
       " '2017-04-21': 69.0,\n",
       " '2017-04-22': 72.0,\n",
       " '2017-04-23': 76.0,\n",
       " '2017-04-24': 68.0,\n",
       " '2017-04-25': 72.0,\n",
       " '2017-04-26': 74.0,\n",
       " '2017-04-27': 70.0,\n",
       " '2017-04-28': 67.0,\n",
       " '2017-04-29': 72.0,\n",
       " '2017-04-30': 60.0,\n",
       " '2017-05-01': 65.0,\n",
       " '2017-05-02': 75.0,\n",
       " '2017-05-03': 70.0,\n",
       " '2017-05-04': 75.0,\n",
       " '2017-05-05': 70.0,\n",
       " '2017-05-06': 79.0,\n",
       " '2017-05-07': 75.0,\n",
       " '2017-05-08': 70.0,\n",
       " '2017-05-09': 67.0,\n",
       " '2017-05-10': 74.0,\n",
       " '2017-05-11': 70.0,\n",
       " '2017-05-12': 75.0,\n",
       " '2017-05-13': 76.0,\n",
       " '2017-05-14': 77.0,\n",
       " '2017-05-15': 74.0,\n",
       " '2017-05-16': 74.0,\n",
       " '2017-05-17': 74.0,\n",
       " '2017-05-18': 69.0,\n",
       " '2017-05-19': 68.0,\n",
       " '2017-05-20': 76.0,\n",
       " '2017-05-21': 74.0,\n",
       " '2017-05-22': 71.0,\n",
       " '2017-05-23': 71.0,\n",
       " '2017-05-24': 74.0,\n",
       " '2017-05-25': 74.0,\n",
       " '2017-05-26': 74.0,\n",
       " '2017-05-27': 74.0,\n",
       " '2017-05-28': 80.0,\n",
       " '2017-05-29': 74.0,\n",
       " '2017-05-30': 72.0,\n",
       " '2017-05-31': 75.0,\n",
       " '2017-06-01': 80.0,\n",
       " '2017-06-02': 76.0,\n",
       " '2017-06-03': 76.0,\n",
       " '2017-06-04': 77.0,\n",
       " '2017-06-05': 75.0,\n",
       " '2017-06-06': 75.0,\n",
       " '2017-06-07': 75.0,\n",
       " '2017-06-08': 75.0,\n",
       " '2017-06-09': 72.0,\n",
       " '2017-06-10': 74.0,\n",
       " '2017-06-11': 74.0,\n",
       " '2017-06-12': 74.0,\n",
       " '2017-06-13': 76.0,\n",
       " '2017-06-14': 74.0,\n",
       " '2017-06-15': 75.0,\n",
       " '2017-06-16': 73.0,\n",
       " '2017-06-17': 79.0,\n",
       " '2017-06-18': 75.0,\n",
       " '2017-06-19': 72.0,\n",
       " '2017-06-20': 72.0,\n",
       " '2017-06-21': 74.0,\n",
       " '2017-06-22': 72.0,\n",
       " '2017-06-23': 72.0,\n",
       " '2017-06-24': 77.0,\n",
       " '2017-06-25': 71.0,\n",
       " '2017-06-26': 73.0,\n",
       " '2017-06-27': 76.0,\n",
       " '2017-06-28': 77.0,\n",
       " '2017-06-29': 76.0,\n",
       " '2017-06-30': 76.0,\n",
       " '2017-07-01': 79.0,\n",
       " '2017-07-02': 81.0,\n",
       " '2017-07-03': 76.0,\n",
       " '2017-07-04': 78.0,\n",
       " '2017-07-05': 77.0,\n",
       " '2017-07-06': 74.0,\n",
       " '2017-07-07': 75.0,\n",
       " '2017-07-08': 78.0,\n",
       " '2017-07-09': 78.0,\n",
       " '2017-07-10': 69.0,\n",
       " '2017-07-11': 72.0,\n",
       " '2017-07-12': 74.0,\n",
       " '2017-07-13': 74.0,\n",
       " '2017-07-14': 76.0,\n",
       " '2017-07-15': 80.0,\n",
       " '2017-07-16': 80.0,\n",
       " '2017-07-17': 76.0,\n",
       " '2017-07-18': 76.0,\n",
       " '2017-07-19': 76.0,\n",
       " '2017-07-20': 77.0,\n",
       " '2017-07-21': 77.0,\n",
       " '2017-07-22': 77.0,\n",
       " '2017-07-23': 82.0,\n",
       " '2017-07-24': 75.0,\n",
       " '2017-07-25': 77.0,\n",
       " '2017-07-26': 75.0,\n",
       " '2017-07-27': 76.0,\n",
       " '2017-07-28': 81.0,\n",
       " '2017-07-29': 82.0,\n",
       " '2017-07-30': 81.0,\n",
       " '2017-07-31': 76.0,\n",
       " '2017-08-04': 77.0,\n",
       " '2017-08-05': 82.0,\n",
       " '2017-08-06': 83.0,\n",
       " '2017-08-13': 77.0,\n",
       " '2017-08-14': 77.0,\n",
       " '2017-08-15': 77.0,\n",
       " '2017-08-16': 76.0,\n",
       " '2017-08-17': 76.0,\n",
       " '2017-08-18': 79.0}"
      ]
     },
     "execution_count": 360,
     "metadata": {},
     "output_type": "execute_result"
    }
   ],
   "source": [
    "tobs_dict = {}\n",
    "for row in twelve_month_tobs:\n",
    "    tobs_dict[row[0]] = row[1]\n",
    "tobs_dict    \n",
    "                        \n",
    "    "
   ]
  },
  {
   "cell_type": "code",
   "execution_count": 333,
   "metadata": {},
   "outputs": [
    {
     "data": {
      "image/png": "[encoded data removed]",
      "text/plain": [
       "<Figure size 432x288 with 1 Axes>"
      ]
     },
     "metadata": {},
     "output_type": "display_data"
    }
   ],
   "source": [
    "# Plot the results as a histogram with bins = 12\n",
    "# 'twelve_month_data' is a list of tuples,which doesn't have any assigned names to it, so we are assigning names to the columns\n",
    "\n",
    "df = pd.DataFrame(twelve_month_tobs, columns=['Date', 'Temperature'])\n",
    "df.set_index(df['Temperature'], inplace=True)\n",
    "\n",
    "plt.hist(df['Temperature'], bins=12)\n",
    "\n",
    "plt.xlabel(\"Temperature(F)\")\n",
    "plt.ylabel(\"Frequency\")\n",
    "plt.title(\"Twelve Months Temperature Obs.\")\n",
    "plt.savefig(\"../sqlalchemy-challenge/Temps.png\")\n",
    "plt.show()\n",
    "\n"
   ]
  },
  {
   "cell_type": "code",
   "execution_count": 307,
   "metadata": {},
   "outputs": [
    {
     "data": {
      "text/plain": [
       "[('2017-08-23', 76.0, 80.25, 82.0)]"
      ]
     },
     "execution_count": 307,
     "metadata": {},
     "output_type": "execute_result"
    }
   ],
   "source": [
    "# Create a query that returns the minimum temperature, the average temperature,\n",
    "# and the max temperature for a given start.\n",
    "\n",
    "# put the columns what you want to see in the output in this list \n",
    "\n",
    "start_date = '2017-08-23'\n",
    "\n",
    "sel = [Measurement.date,\n",
    "       func.min(Measurement.tobs), \n",
    "       func.avg(Measurement.tobs),  \n",
    "       func.max(Measurement.tobs)]\n",
    "\n",
    "             \n",
    "# Now query from sel data columns '\n",
    "# .all() takes the result and puts into a list of tuples\n",
    "\n",
    "start_date_aggregates = session.query(*sel).\\\n",
    "          filter(Measurement.date == (start_date)).all() \n",
    "                  \n",
    "start_date_aggregates    "
   ]
  },
  {
   "cell_type": "code",
   "execution_count": 334,
   "metadata": {},
   "outputs": [
    {
     "data": {
      "text/plain": [
       "[(56.0, 74.42747111681643, 86.0)]"
      ]
     },
     "execution_count": 334,
     "metadata": {},
     "output_type": "execute_result"
    }
   ],
   "source": [
    "# Create a query that returns the minimum temperature, the average temperature,\n",
    "# and the max temperature for a given start-end range.\n",
    "\n",
    "# put the columns what you want to see in the output in this list \n",
    "\n",
    "start_date = '2015-08-23'\n",
    "end_date = '2016-08-23'\n",
    "\n",
    "\n",
    "sel = [func.min(Measurement.tobs), \n",
    "      func.avg(Measurement.tobs),  \n",
    "       func.max(Measurement.tobs)]\n",
    "             \n",
    "# Now query from sel data columns '\n",
    "# .all() takes the result and puts into a list of tuples\n",
    "\n",
    "range_aggregates = session.query(*sel).\\\n",
    "          filter(and_(Measurement.date > start_date), (Measurement.date < end_date)).all() \n",
    "          \n",
    "                  \n",
    "range_aggregates    "
   ]
  },
  {
   "cell_type": "code",
   "execution_count": 336,
   "metadata": {},
   "outputs": [
    {
     "data": {
      "text/plain": [
       "[(58.0, 74.59058295964125, 87.0)]"
      ]
     },
     "execution_count": 336,
     "metadata": {},
     "output_type": "execute_result"
    }
   ],
   "source": [
    "# When given the start date only, calculate min, max, \n",
    "# and avg for all dates greater than and equal to the start date.\n",
    "\n",
    "# put the columns what you want to see in the output in this list \n",
    "\n",
    "start_date = '2016-08-23'\n",
    "\n",
    "              \n",
    "sel = [func.min(Measurement.tobs), \n",
    "       func.avg(Measurement.tobs),  \n",
    "       func.max(Measurement.tobs)]\n",
    "       \n",
    "\n",
    "             \n",
    "# Now query from sel data columns '\n",
    "# .all() takes the result and puts into a list of tuples\n",
    "\n",
    "range_aggregates = session.query(*sel).\\\n",
    "          filter(Measurement.date >= start_date).all()\n",
    "                           \n",
    "range_aggregates    "
   ]
  },
  {
   "cell_type": "code",
   "execution_count": 339,
   "metadata": {},
   "outputs": [
    {
     "data": {
      "text/plain": [
       "[(56.0, 74.45063829787235, 86.0)]"
      ]
     },
     "execution_count": 339,
     "metadata": {},
     "output_type": "execute_result"
    }
   ],
   "source": [
    "# When given the start and the end date, calculate the minimum, average, \n",
    "# and maximum obvserved temperature for dates between the start and end date inclusive.\n",
    "\n",
    "# you put the columns what you want to see in the output in this list \n",
    "\n",
    "start_date = '2015-08-23'\n",
    "end_date = '2016-08-23'\n",
    "\n",
    "\n",
    "sel = [func.min(Measurement.tobs), \n",
    "      func.avg(Measurement.tobs),  \n",
    "      func.max(Measurement.tobs)]\n",
    "       \n",
    "\n",
    "             \n",
    "# Now query from sel data columns '\n",
    "# .all() takes the result and puts into a list of tuples\n",
    "\n",
    "range_aggregates = session.query(*sel).\\\n",
    "          filter(and_(Measurement.date >= start_date), (Measurement.date <= end_date)).all()\n",
    "          \n",
    "                  \n",
    "range_aggregates    "
   ]
  },
  {
   "cell_type": "code",
   "execution_count": 343,
   "metadata": {},
   "outputs": [
    {
     "data": {
      "text/plain": [
       "[56.0, 74.45063829787235, 86.0]"
      ]
     },
     "execution_count": 343,
     "metadata": {},
     "output_type": "execute_result"
    }
   ],
   "source": [
    "# Convert list of tuples into normal list and retrieving 'station name'\n",
    "\n",
    "temps_filtered_by_date = list(np.ravel(range_aggregates))\n",
    "temps_filtered_by_date"
   ]
  },
  {
   "cell_type": "code",
   "execution_count": 110,
   "metadata": {},
   "outputs": [],
   "source": [
    "session.close()"
   ]
  }
 ],
 "metadata": {
  "finalized": {
   "timestamp": 1622725208764,
   "trusted": false
  },
  "kernel_info": {
   "name": "python3"
  },
  "kernelspec": {
   "display_name": "Python [conda env:PythonData] *",
   "language": "python",
   "name": "conda-env-PythonData-py"
  },
  "language_info": {
   "codemirror_mode": {
    "name": "ipython",
    "version": 3
   },
   "file_extension": ".py",
   "mimetype": "text/x-python",
   "name": "python",
   "nbconvert_exporter": "python",
   "pygments_lexer": "ipython3",
   "version": "3.6.10"
  },
  "nteract": {
   "version": "0.12.3"
  },
  "toc": {
   "base_numbering": 1,
   "nav_menu": {},
   "number_sections": true,
   "sideBar": true,
   "skip_h1_title": false,
   "title_cell": "Table of Contents",
   "title_sidebar": "Contents",
   "toc_cell": false,
   "toc_position": {},
   "toc_section_display": true,
   "toc_window_display": false
  },
  "varInspector": {
   "cols": {
    "lenName": 16,
    "lenType": 16,
    "lenVar": 40
   },
   "kernels_config": {
    "python": {
     "delete_cmd_postfix": "",
     "delete_cmd_prefix": "del ",
     "library": "var_list.py",
     "varRefreshCmd": "print(var_dic_list())"
    },
    "r": {
     "delete_cmd_postfix": ") ",
     "delete_cmd_prefix": "rm(",
     "library": "var_list.r",
     "varRefreshCmd": "cat(var_dic_list()) "
    }
   },
   "types_to_exclude": [
    "module",
    "function",
    "builtin_function_or_method",
    "instance",
    "_Feature"
   ],
   "window_display": false
  }
 },
 "nbformat": 4,
 "nbformat_minor": 2
}
