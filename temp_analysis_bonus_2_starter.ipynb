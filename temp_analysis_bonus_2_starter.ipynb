{
 "cells": [
  {
   "cell_type": "markdown",
   "metadata": {},
   "source": [
    "# Import dependencies"
   ]
  },
  {
   "cell_type": "code",
   "execution_count": 2,
   "metadata": {},
   "outputs": [],
   "source": [
    "%matplotlib inline\n",
    "from matplotlib import style\n",
    "style.use('fivethirtyeight')\n",
    "import matplotlib.pyplot as plt\n",
    "\n",
    "import numpy as np\n",
    "import pandas as pd\n",
    "import datetime as dt\n"
   ]
  },
  {
   "cell_type": "markdown",
   "metadata": {},
   "source": [
    "# Connect to database"
   ]
  },
  {
   "cell_type": "code",
   "execution_count": 3,
   "metadata": {},
   "outputs": [],
   "source": [
    "# Connect to sqlite database using SQLAlchemy ORM\n",
    "\n",
    "# Python SQL toolkit and Object Relational Mapper\n",
    "import sqlalchemy\n",
    "from sqlalchemy.ext.automap import automap_base\n",
    "from sqlalchemy.orm import Session\n",
    "from sqlalchemy import create_engine, inspect, func\n",
    "\n",
    "from sqlalchemy.sql import operators, extract\n",
    "from dateutil.relativedelta import relativedelta\n",
    "from sqlalchemy import and_"
   ]
  },
  {
   "cell_type": "code",
   "execution_count": 4,
   "metadata": {},
   "outputs": [],
   "source": [
    "# Create_engine to connect to your sqlite database.\n",
    "\n",
    "engine = create_engine(\"sqlite:///Resources/hawaii.sqlite\")"
   ]
  },
  {
   "cell_type": "code",
   "execution_count": 5,
   "metadata": {},
   "outputs": [
    {
     "data": {
      "text/plain": [
       "['measurement', 'station']"
      ]
     },
     "execution_count": 5,
     "metadata": {},
     "output_type": "execute_result"
    }
   ],
   "source": [
    "# reflect an existing database into a new model\n",
    "\n",
    "# reflect the tables\n",
    "\n",
    "# Use the Inspector to explore the database and print the table names\n",
    "# YOUR CODE HERE\n",
    "inspector = inspect(engine)\n",
    "inspector.get_table_names()\n"
   ]
  },
  {
   "cell_type": "code",
   "execution_count": 6,
   "metadata": {},
   "outputs": [
    {
     "name": "stdout",
     "output_type": "stream",
     "text": [
      "id INTEGER\n",
      "station TEXT\n",
      "date TEXT\n",
      "prcp FLOAT\n",
      "tobs FLOAT\n"
     ]
    }
   ],
   "source": [
    "# Use Inspector to print the column names and types\n",
    "# YOUR CODE HERE\n",
    "columns = inspector.get_columns('measurement')\n",
    "for column in columns:\n",
    "    print(column[\"name\"], column[\"type\"])"
   ]
  },
  {
   "cell_type": "code",
   "execution_count": 7,
   "metadata": {},
   "outputs": [
    {
     "name": "stdout",
     "output_type": "stream",
     "text": [
      "id INTEGER\n",
      "station TEXT\n",
      "name TEXT\n",
      "latitude FLOAT\n",
      "longitude FLOAT\n",
      "elevation FLOAT\n"
     ]
    }
   ],
   "source": [
    "# Use Inspector to print the column names and types\n",
    "# YOUR CODE HERE\n",
    "columns = inspector.get_columns('station')\n",
    "for column in columns:\n",
    "    print(column[\"name\"], column[\"type\"])"
   ]
  },
  {
   "cell_type": "code",
   "execution_count": 8,
   "metadata": {},
   "outputs": [],
   "source": [
    "# Use SQLAlchemy automap_base() to reflect your tables into classes and \n",
    "# save a reference to those classes called Station and Measurement.\n",
    "# View all of the classes that automap found\n",
    "# Reflect Database into ORM class\n",
    "\n",
    "Base = automap_base()\n",
    "Base.prepare(engine, reflect=True)\n",
    "Measurement = Base.classes.measurement"
   ]
  },
  {
   "cell_type": "code",
   "execution_count": 9,
   "metadata": {},
   "outputs": [],
   "source": [
    "# Save references to each table\n",
    "# Reflect Database into ORM class\n",
    "\n",
    "Base = automap_base()\n",
    "Base.prepare(engine, reflect=True)\n",
    "Station = Base.classes.station"
   ]
  },
  {
   "cell_type": "code",
   "execution_count": 10,
   "metadata": {},
   "outputs": [],
   "source": [
    "# Create our session (link) from Python to the DB\n",
    "# Start a session to query the database\n",
    "\n",
    "session = Session(engine)"
   ]
  },
  {
   "cell_type": "markdown",
   "metadata": {},
   "source": [
    "## Temperature Analysis II"
   ]
  },
  {
   "cell_type": "code",
   "execution_count": 11,
   "metadata": {
    "run_control": {
     "marked": false
    }
   },
   "outputs": [
    {
     "data": {
      "text/plain": [
       "[(72.0, 79.25, 83.0)]"
      ]
     },
     "execution_count": 11,
     "metadata": {},
     "output_type": "execute_result"
    }
   ],
   "source": [
    "# You are looking to take a trip from August first to August seventh of this year, \n",
    "# but are worried that the weather will be less than ideal.\n",
    "# Using historical data in the dataset find out what the temperature has previously looked like.\n",
    "\n",
    "# Create a function called calc_temps that will accept a start date and end date in the format %Y-%m-%d.\n",
    "# The function will return the minimum, average, and maximum temperatures for that range of dates.\n",
    "\n",
    "\n",
    "start_date = '2017-08-01'\n",
    "end_date = '2017-08-07'\n",
    "\n",
    "def calc_temps(start_date, end_date):\n",
    "   \n",
    "    # you put the columns what you want to see in the output in this list \n",
    "\n",
    "\n",
    "    sel = [func.min(Measurement.tobs), \n",
    "           func.avg(Measurement.tobs),  \n",
    "           func.max(Measurement.tobs)]\n",
    "    \n",
    "    # Now query from sel data columns \n",
    "    # .all() takes the result and puts into a list of tuples\n",
    "\n",
    "    range_aggregates = session.query(*sel).\\\n",
    "              filter(and_(Measurement.date >= start_date), (Measurement.date <= end_date)).all()\n",
    "    \n",
    "    return (range_aggregates)           \n",
    "\n",
    "# Calling function 'calc_temps'\n",
    "range_aggregates = calc_temps(start_date, end_date)\n",
    "range_aggregates"
   ]
  },
  {
   "cell_type": "code",
   "execution_count": 12,
   "metadata": {},
   "outputs": [
    {
     "data": {
      "text/plain": [
       "[(72.0, 78.05263157894737, 83.0)]"
      ]
     },
     "execution_count": 12,
     "metadata": {},
     "output_type": "execute_result"
    }
   ],
   "source": [
    "# Use the calc_temps function to calculate the min, avg, and max temperatures \n",
    "#for your trip using the matching dates from a previous year (i.e., use \"2017-08-01\").\n",
    "\n",
    "start_date = '2017-08-01'\n",
    "end_date = '2017-08-07'\n",
    "\n",
    "#recent_date = session.query(Measurement.date).order_by(Measurement.date.desc()).first()[0]\n",
    "\n",
    "# Converting str type date into datetime\n",
    "lastyear_start_date = dt.datetime.strptime(start_date, '%Y-%m-%d')\n",
    "lastyear_end_date = dt.datetime.strptime(end_date, '%Y-%m-%d')\n",
    "\n",
    "# 12 month relativedelta\n",
    "twelve_mon_rel = relativedelta(months=12)\n",
    "\n",
    "# Query for the previous date--12 months from '2017-08-23'` using the datetime library\n",
    "query_date1 = lastyear_start_date - twelve_mon_rel\n",
    "query_date2 = lastyear_end_date - twelve_mon_rel\n",
    "\n",
    "# Calling function 'calc_temps' for geting temperatures average for previous year\n",
    "range_aggregates = calc_temps(query_date1, query_date2)\n",
    "range_aggregates  \n"
   ]
  },
  {
   "cell_type": "code",
   "execution_count": 63,
   "metadata": {},
   "outputs": [
    {
     "data": {
      "image/png": "[encoded data removed]",
      "text/plain": [
       "<Figure size 432x288 with 1 Axes>"
      ]
     },
     "metadata": {},
     "output_type": "display_data"
    }
   ],
   "source": [
    "# Plot the min, avg, and max temperature from your previous query as a bar chart.\n",
    "# Use \"Trip Avg Temp\" as the title.\n",
    "# Use the average temperature as the bar height (y value).\n",
    "# Use the peak-to-peak (TMAX-TMIN) value as the y error bar (YERR).\n",
    "\n",
    "\n",
    "# Get the results in to List comprehension \n",
    "df = pd.DataFrame(range_aggregates, columns=['min_temp', 'avg_temp', 'max_temp'])\n",
    "\n",
    "# Plot the Results in a Matplotlib bar chart\n",
    "\n",
    "df.set_index('avg_temp', inplace=True)\n",
    "df.plot.bar()\n",
    "plt.tight_layout()\n",
    "plt.show()\n",
    "     \n"
   ]
  },
  {
   "cell_type": "markdown",
   "metadata": {},
   "source": [
    "## Daily Rainfall Average"
   ]
  },
  {
   "cell_type": "code",
   "execution_count": 78,
   "metadata": {},
   "outputs": [
    {
     "data": {
      "text/plain": [
       "[('USC00516128',\n",
       "  6.7,\n",
       "  'USC00516128',\n",
       "  'MANOA LYON ARBO 785.2, HI US',\n",
       "  21.3331,\n",
       "  152.4),\n",
       " ('USC00519523',\n",
       "  6.25,\n",
       "  'USC00519523',\n",
       "  'WAIMANALO EXPERIMENTAL FARM, HI US',\n",
       "  21.33556,\n",
       "  19.5)]"
      ]
     },
     "execution_count": 78,
     "metadata": {},
     "output_type": "execute_result"
    }
   ],
   "source": [
    "# Query rainfall per weather station for previous year, sorted by precipitation\n",
    "# Include station, name, latitude, longitude, and elevation\n",
    "\n",
    "sel = [Measurement.station, Measurement.prcp, Station.station, Station.name, Station.latitude, Station.elevation]\n",
    "\n",
    "query_rainfall = session.query(*sel).filter(Measurement.station == Station.station).\\\n",
    "                 filter(and_(Measurement.date >= query_date1, Measurement.date >= query_date2)).\\\n",
    "                 order_by(Measurement.prcp.desc()).limit(2).all()\n",
    "query_rainfall\n",
    "\n",
    "# for record in query_rainfall:\n",
    "#     (me_station, me_prcp, sa_name, sa_lat, sa_elev) = record\n",
    "#     print(\n",
    "#         f\"The rainfall '{me_station} {me_prcp} {sa_name}'\"\n",
    "#         f\"'{sa_lat} {sa_elev}'.\")\n"
   ]
  },
  {
   "cell_type": "code",
   "execution_count": 82,
   "metadata": {},
   "outputs": [],
   "source": [
    "# Convert list of tuples into normal list and retrieving 'station name'        \n",
    "filtered_by_date = list(np.ravel(query_rainfall))\n",
    "#filtered_by_date"
   ]
  },
  {
   "cell_type": "markdown",
   "metadata": {},
   "source": [
    "## Daily Temperature Normals"
   ]
  },
  {
   "cell_type": "code",
   "execution_count": 84,
   "metadata": {},
   "outputs": [
    {
     "data": {
      "text/plain": [
       "[(72.0, 78.05263157894737, 83.0)]"
      ]
     },
     "execution_count": 84,
     "metadata": {},
     "output_type": "execute_result"
    }
   ],
   "source": [
    "# Use the calc_temps function to calculate the min, avg, and max temperatures \n",
    "#for your trip using the matching dates from a previous year (i.e., use \"2017-08-01\").\n",
    "\n",
    "start_date = '2017-08-01'\n",
    "end_date = '2017-08-07'\n",
    "\n",
    "#recent_date = session.query(Measurement.date).order_by(Measurement.date.desc()).first()[0]\n",
    "\n",
    "# Converting str type date into datetime\n",
    "query_date1 = dt.datetime.strptime(start_date, '%Y-%m-%d')\n",
    "query_date2 = dt.datetime.strptime(end_date, '%Y-%m-%d')\n",
    "\n",
    "# Calling function 'calc_temps' for geting temperatures average for previous year\n",
    "range_aggregates = calc_temps(query_date1, query_date2)\n",
    "range_aggregates  "
   ]
  },
  {
   "cell_type": "code",
   "execution_count": 95,
   "metadata": {},
   "outputs": [
    {
     "data": {
      "text/plain": [
       "[('08-01', '08-07')]"
      ]
     },
     "execution_count": 95,
     "metadata": {},
     "output_type": "execute_result"
    }
   ],
   "source": [
    "# testing\n",
    "# x = session.query(func.strftime('%m-%d',query_date1), func.strftime('%m-%d',query_date2)).all()\n",
    "# x"
   ]
  },
  {
   "cell_type": "code",
   "execution_count": 102,
   "metadata": {},
   "outputs": [
    {
     "data": {
      "text/plain": [
       "[(67.0, 76.28918918918919, 85.0)]"
      ]
     },
     "execution_count": 102,
     "metadata": {},
     "output_type": "execute_result"
    }
   ],
   "source": [
    "def daily_normals(query_date1, query_date2):\n",
    "    \n",
    "    \n",
    "    sel = [func.min(Measurement.tobs), \n",
    "      func.avg(Measurement.tobs),  \n",
    "       func.max(Measurement.tobs)]\n",
    "             \n",
    "    # Now query from sel data columns '\n",
    "    # .all() takes the result and puts into a list of tuples\n",
    "\n",
    "    range_aggregates = session.query(*sel).\\\n",
    "          filter(and_(func.strftime('%m-%d',Measurement.date) >= func.strftime('%m-%d',query_date1)),\\\n",
    "                 (func.strftime('%m-%d',Measurement.date) <= func.strftime('%m-%d',query_date2))).all() \n",
    "    \n",
    "    return (range_aggregates)\n",
    "\n",
    "range_aggregates = daily_normals(query_date1, query_date2)\n",
    "range_aggregates"
   ]
  },
  {
   "cell_type": "code",
   "execution_count": 110,
   "metadata": {},
   "outputs": [
    {
     "data": {
      "text/plain": [
       "[72.0, 79.25, 83.0]"
      ]
     },
     "execution_count": 110,
     "metadata": {},
     "output_type": "execute_result"
    }
   ],
   "source": [
    "# Convert list of tuples into normal list        \n",
    "filtered_by_date = list(np.ravel(range_aggregates))\n",
    "filtered_by_date"
   ]
  },
  {
   "cell_type": "code",
   "execution_count": 40,
   "metadata": {},
   "outputs": [
    {
     "data": {
      "text/plain": [
       "[(72.0, 79.25, 83.0)]"
      ]
     },
     "execution_count": 40,
     "metadata": {},
     "output_type": "execute_result"
    }
   ],
   "source": [
    "# Calculate the daily normals for each day of your trip (inclusive)\n",
    "start_date = '2017-08-01'\n",
    "end_date = '2017-08-07'\n",
    "\n",
    "sel = [func.min(Measurement.tobs), \n",
    "      func.avg(Measurement.tobs),  \n",
    "       func.max(Measurement.tobs)]\n",
    "             \n",
    "    # Now query from sel data columns '\n",
    "    # .all() takes the result and puts into a list of tuples\n",
    "\n",
    "range_aggregates = session.query(*sel).\\\n",
    "          filter(and_(Measurement.date >= start_date),\\\n",
    "                 (Measurement.date <= end_date)).all() \n",
    "range_aggregates"
   ]
  },
  {
   "cell_type": "code",
   "execution_count": 66,
   "metadata": {},
   "outputs": [
    {
     "data": {
      "image/png": "[encoded data removed]",
      "text/plain": [
       "<Figure size 432x288 with 1 Axes>"
      ]
     },
     "metadata": {},
     "output_type": "display_data"
    }
   ],
   "source": [
    "import pandas as pd\n",
    "import matplotlib.pyplot as plot\n",
    "\n",
    "\n",
    "# Plot the daily normals as an area plot with `stacked=False`\n",
    "\n",
    "df = pd.DataFrame(range_aggregates, columns=['min_temp', 'avg_temp', 'max_temp'])\n",
    "\n",
    "\n",
    "ax = df.plot.area(stacked=False)\n"
   ]
  },
  {
   "cell_type": "markdown",
   "metadata": {},
   "source": [
    "## Close Session"
   ]
  },
  {
   "cell_type": "code",
   "execution_count": 107,
   "metadata": {},
   "outputs": [],
   "source": [
    "session.close()"
   ]
  }
 ],
 "metadata": {
  "kernelspec": {
   "display_name": "Python [conda env:PythonData] *",
   "language": "python",
   "name": "conda-env-PythonData-py"
  },
  "language_info": {
   "codemirror_mode": {
    "name": "ipython",
    "version": 3
   },
   "file_extension": ".py",
   "mimetype": "text/x-python",
   "name": "python",
   "nbconvert_exporter": "python",
   "pygments_lexer": "ipython3",
   "version": "3.6.10"
  },
  "toc": {
   "base_numbering": 1,
   "nav_menu": {},
   "number_sections": true,
   "sideBar": true,
   "skip_h1_title": false,
   "title_cell": "Table of Contents",
   "title_sidebar": "Contents",
   "toc_cell": false,
   "toc_position": {},
   "toc_section_display": true,
   "toc_window_display": false
  },
  "varInspector": {
   "cols": {
    "lenName": 16,
    "lenType": 16,
    "lenVar": 40
   },
   "kernels_config": {
    "python": {
     "delete_cmd_postfix": "",
     "delete_cmd_prefix": "del ",
     "library": "var_list.py",
     "varRefreshCmd": "print(var_dic_list())"
    },
    "r": {
     "delete_cmd_postfix": ") ",
     "delete_cmd_prefix": "rm(",
     "library": "var_list.r",
     "varRefreshCmd": "cat(var_dic_list()) "
    }
   },
   "types_to_exclude": [
    "module",
    "function",
    "builtin_function_or_method",
    "instance",
    "_Feature"
   ],
   "window_display": false
  }
 },
 "nbformat": 4,
 "nbformat_minor": 4
}
